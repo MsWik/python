{
 "cells": [
  {
   "cell_type": "code",
   "execution_count": 1,
   "metadata": {},
   "outputs": [],
   "source": [
    "import plaidml.keras"
   ]
  },
  {
   "cell_type": "code",
   "execution_count": 2,
   "metadata": {},
   "outputs": [],
   "source": [
    "plaidml.keras.install_backend()"
   ]
  },
  {
   "cell_type": "code",
   "execution_count": null,
   "metadata": {},
   "outputs": [],
   "source": []
  },
  {
   "cell_type": "code",
   "execution_count": 3,
   "metadata": {},
   "outputs": [],
   "source": [
    "\n",
    "from keras.layers import Embedding\n",
    "\n",
    "# The Embedding layer takes at least two arguments:\n",
    "# the number of possible tokens, here 1000 (1 + maximum word index),\n",
    "# and the dimensionality of the embeddings, here 64.\n",
    "embedding_layer = Embedding(1000, 64)"
   ]
  },
  {
   "cell_type": "code",
   "execution_count": null,
   "metadata": {},
   "outputs": [],
   "source": []
  },
  {
   "cell_type": "code",
   "execution_count": null,
   "metadata": {},
   "outputs": [],
   "source": []
  },
  {
   "cell_type": "code",
   "execution_count": 7,
   "metadata": {},
   "outputs": [],
   "source": [
    "from keras.datasets import imdb\n",
    "import numpy as np\n",
    "# save np.load\n",
    "np_load_old = np.load\n",
    "\n",
    "# modify the default parameters of np.load\n",
    "np.load = lambda *a,**k: np_load_old(*a, allow_pickle=True, **k)\n",
    "\n",
    "# call load_data with allow_pickle implicitly set to true\n",
    "(x_train, y_train), (x_test, y_test) = imdb.load_data(num_words=10000)\n",
    "\n",
    "# restore np.load for future normal usage\n",
    "np.load = np_load_old\n",
    "\n",
    "# Number of words to consider as features\n",
    "\n",
    "# Cut texts after this number of words \n",
    "# (among top max_features most common words)\n",
    "maxlen = 20\n",
    "\n",
    "# Load the data as lists of integers.\n",
    "\n",
    "\n",
    "# This turns our lists of integers\n",
    "# into a 2D integer tensor of shape `(samples, maxlen)`\n",
    "x_train = preprocessing.sequence.pad_sequences(x_train, maxlen=maxlen)\n",
    "x_test = preprocessing.sequence.pad_sequences(x_test, maxlen=maxlen)"
   ]
  },
  {
   "cell_type": "code",
   "execution_count": null,
   "metadata": {},
   "outputs": [],
   "source": []
  },
  {
   "cell_type": "code",
   "execution_count": 16,
   "metadata": {},
   "outputs": [
    {
     "name": "stdout",
     "output_type": "stream",
     "text": [
      "_________________________________________________________________\n",
      "Layer (type)                 Output Shape              Param #   \n",
      "=================================================================\n",
      "embedding_11 (Embedding)     (None, 20, 8)             80000     \n",
      "_________________________________________________________________\n",
      "flatten_7 (Flatten)          (None, 160)               0         \n",
      "_________________________________________________________________\n",
      "dense_5 (Dense)              (None, 1)                 161       \n",
      "=================================================================\n",
      "Total params: 80,161\n",
      "Trainable params: 80,161\n",
      "Non-trainable params: 0\n",
      "_________________________________________________________________\n",
      "Train on 22500 samples, validate on 2500 samples\n",
      "Epoch 1/20\n",
      "22500/22500 [==============================] - 5s 220us/step - loss: 0.6749 - acc: 0.6247 - val_loss: 0.6370 - val_acc: 0.7016\n",
      "Epoch 2/20\n",
      "22500/22500 [==============================] - 4s 181us/step - loss: 0.5697 - acc: 0.7488 - val_loss: 0.5398 - val_acc: 0.7288\n",
      "Epoch 3/20\n",
      "22500/22500 [==============================] - 4s 180us/step - loss: 0.4817 - acc: 0.7841 - val_loss: 0.4981 - val_acc: 0.7484\n",
      "Epoch 4/20\n",
      "22500/22500 [==============================] - 4s 179us/step - loss: 0.4350 - acc: 0.8063 - val_loss: 0.4812 - val_acc: 0.7580\n",
      "Epoch 5/20\n",
      "22500/22500 [==============================] - 4s 179us/step - loss: 0.4045 - acc: 0.8228 - val_loss: 0.4768 - val_acc: 0.7628\n",
      "Epoch 6/20\n",
      "22500/22500 [==============================] - 4s 189us/step - loss: 0.3804 - acc: 0.8341 - val_loss: 0.4763 - val_acc: 0.7688\n",
      "Epoch 7/20\n",
      "22500/22500 [==============================] - 4s 183us/step - loss: 0.3599 - acc: 0.8452 - val_loss: 0.4775 - val_acc: 0.7664\n",
      "Epoch 8/20\n",
      "22500/22500 [==============================] - 4s 180us/step - loss: 0.3413 - acc: 0.8548 - val_loss: 0.4794 - val_acc: 0.7660\n",
      "Epoch 9/20\n",
      "22500/22500 [==============================] - 4s 185us/step - loss: 0.3239 - acc: 0.8647 - val_loss: 0.4856 - val_acc: 0.7632\n",
      "Epoch 10/20\n",
      "22500/22500 [==============================] - 4s 183us/step - loss: 0.3074 - acc: 0.8742 - val_loss: 0.4910 - val_acc: 0.7640\n",
      "Epoch 11/20\n",
      "22500/22500 [==============================] - 4s 179us/step - loss: 0.2920 - acc: 0.8824 - val_loss: 0.5007 - val_acc: 0.7620\n",
      "Epoch 12/20\n",
      "22500/22500 [==============================] - 4s 181us/step - loss: 0.2771 - acc: 0.8909 - val_loss: 0.5074 - val_acc: 0.7584\n",
      "Epoch 13/20\n",
      "22500/22500 [==============================] - 4s 179us/step - loss: 0.2631 - acc: 0.8977 - val_loss: 0.5161 - val_acc: 0.7588\n",
      "Epoch 14/20\n",
      "22500/22500 [==============================] - 4s 178us/step - loss: 0.2496 - acc: 0.9034 - val_loss: 0.5268 - val_acc: 0.7568\n",
      "Epoch 15/20\n",
      "22500/22500 [==============================] - 4s 179us/step - loss: 0.2367 - acc: 0.9116 - val_loss: 0.5352 - val_acc: 0.7576\n",
      "Epoch 16/20\n",
      "22500/22500 [==============================] - 4s 178us/step - loss: 0.2244 - acc: 0.9178 - val_loss: 0.5457 - val_acc: 0.7564\n",
      "Epoch 17/20\n",
      "22500/22500 [==============================] - 4s 181us/step - loss: 0.2128 - acc: 0.9239 - val_loss: 0.5580 - val_acc: 0.7552\n",
      "Epoch 18/20\n",
      "22500/22500 [==============================] - 4s 177us/step - loss: 0.2017 - acc: 0.9288 - val_loss: 0.5685 - val_acc: 0.7492\n",
      "Epoch 19/20\n",
      "22500/22500 [==============================] - 4s 179us/step - loss: 0.1915 - acc: 0.9328 - val_loss: 0.5828 - val_acc: 0.7480\n",
      "Epoch 20/20\n",
      "22500/22500 [==============================] - 4s 180us/step - loss: 0.1815 - acc: 0.9382 - val_loss: 0.5953 - val_acc: 0.7428\n"
     ]
    }
   ],
   "source": [
    "from keras.layers import LSTM\n",
    "from keras.models import Sequential\n",
    "from keras.layers import Flatten, Dense\n",
    "\n",
    "model = Sequential()\n",
    "# We specify the maximum input length to our Embedding layer\n",
    "# so we can later flatten the embedded inputs\n",
    "model.add(Embedding(10000, 8, input_length=maxlen))\n",
    "# After the Embedding layer, \n",
    "# our activations have shape `(samples, maxlen, 8)`.\n",
    "\n",
    "# We flatten the 3D tensor of embeddings \n",
    "# into a 2D tensor of shape `(samples, maxlen * 8)`\n",
    "model.add(Flatten())\n",
    "\n",
    "# We add the classifier on top\n",
    "\n",
    "\n",
    "\n",
    "#model.add(Embedding(max_features, 32))\n",
    "#model.add(LSTM(32))\n",
    "model.add(Dense(1, activation='sigmoid'))\n",
    "model.compile(optimizer='rmsprop', loss='binary_crossentropy', metrics=['acc'])\n",
    "model.summary()\n",
    "\n",
    "history = model.fit(x_train, y_train,\n",
    "                    epochs=20,\n",
    "                    batch_size=64,\n",
    "                    validation_split=0.1)"
   ]
  },
  {
   "cell_type": "code",
   "execution_count": 11,
   "metadata": {},
   "outputs": [
    {
     "name": "stdout",
     "output_type": "stream",
     "text": [
      "25000/25000 [==============================] - 3s 117us/step\n"
     ]
    },
    {
     "data": {
      "text/plain": [
       "[1.1605155200767516, 0.69372]"
      ]
     },
     "execution_count": 11,
     "metadata": {},
     "output_type": "execute_result"
    }
   ],
   "source": [
    "model.evaluate(x_test, y_test)"
   ]
  },
  {
   "cell_type": "code",
   "execution_count": null,
   "metadata": {},
   "outputs": [],
   "source": []
  }
 ],
 "metadata": {
  "kernelspec": {
   "display_name": "Python 3",
   "language": "python",
   "name": "python3"
  },
  "language_info": {
   "codemirror_mode": {
    "name": "ipython",
    "version": 3
   },
   "file_extension": ".py",
   "mimetype": "text/x-python",
   "name": "python",
   "nbconvert_exporter": "python",
   "pygments_lexer": "ipython3",
   "version": "3.6.9"
  }
 },
 "nbformat": 4,
 "nbformat_minor": 2
}
