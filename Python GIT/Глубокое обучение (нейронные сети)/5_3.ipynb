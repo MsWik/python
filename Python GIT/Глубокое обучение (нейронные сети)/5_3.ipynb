{
 "cells": [
  {
   "cell_type": "code",
   "execution_count": 3,
   "metadata": {},
   "outputs": [],
   "source": [
    "import plaidml.keras"
   ]
  },
  {
   "cell_type": "code",
   "execution_count": 4,
   "metadata": {},
   "outputs": [],
   "source": [
    "plaidml.keras.install_backend()"
   ]
  },
  {
   "cell_type": "code",
   "execution_count": null,
   "metadata": {},
   "outputs": [],
   "source": []
  },
  {
   "cell_type": "code",
   "execution_count": null,
   "metadata": {},
   "outputs": [],
   "source": []
  },
  {
   "cell_type": "code",
   "execution_count": null,
   "metadata": {},
   "outputs": [],
   "source": []
  },
  {
   "cell_type": "code",
   "execution_count": 5,
   "metadata": {},
   "outputs": [
    {
     "name": "stderr",
     "output_type": "stream",
     "text": [
      "INFO:plaidml:Opening device \"opencl_amd_ellesmere.0\"\n"
     ]
    }
   ],
   "source": [
    "\n",
    "\n",
    "\n",
    "from keras.applications import VGG16\n",
    "\n",
    "conv_base = VGG16(weights='imagenet',\n",
    "                  include_top=False,\n",
    "                  input_shape=(150, 150, 3))"
   ]
  },
  {
   "cell_type": "code",
   "execution_count": 6,
   "metadata": {},
   "outputs": [
    {
     "name": "stdout",
     "output_type": "stream",
     "text": [
      "_________________________________________________________________\n",
      "Layer (type)                 Output Shape              Param #   \n",
      "=================================================================\n",
      "input_1 (InputLayer)         (None, 150, 150, 3)       0         \n",
      "_________________________________________________________________\n",
      "block1_conv1 (Conv2D)        (None, 150, 150, 64)      1792      \n",
      "_________________________________________________________________\n",
      "block1_conv2 (Conv2D)        (None, 150, 150, 64)      36928     \n",
      "_________________________________________________________________\n",
      "block1_pool (MaxPooling2D)   (None, 75, 75, 64)        0         \n",
      "_________________________________________________________________\n",
      "block2_conv1 (Conv2D)        (None, 75, 75, 128)       73856     \n",
      "_________________________________________________________________\n",
      "block2_conv2 (Conv2D)        (None, 75, 75, 128)       147584    \n",
      "_________________________________________________________________\n",
      "block2_pool (MaxPooling2D)   (None, 37, 37, 128)       0         \n",
      "_________________________________________________________________\n",
      "block3_conv1 (Conv2D)        (None, 37, 37, 256)       295168    \n",
      "_________________________________________________________________\n",
      "block3_conv2 (Conv2D)        (None, 37, 37, 256)       590080    \n",
      "_________________________________________________________________\n",
      "block3_conv3 (Conv2D)        (None, 37, 37, 256)       590080    \n",
      "_________________________________________________________________\n",
      "block3_pool (MaxPooling2D)   (None, 18, 18, 256)       0         \n",
      "_________________________________________________________________\n",
      "block4_conv1 (Conv2D)        (None, 18, 18, 512)       1180160   \n",
      "_________________________________________________________________\n",
      "block4_conv2 (Conv2D)        (None, 18, 18, 512)       2359808   \n",
      "_________________________________________________________________\n",
      "block4_conv3 (Conv2D)        (None, 18, 18, 512)       2359808   \n",
      "_________________________________________________________________\n",
      "block4_pool (MaxPooling2D)   (None, 9, 9, 512)         0         \n",
      "_________________________________________________________________\n",
      "block5_conv1 (Conv2D)        (None, 9, 9, 512)         2359808   \n",
      "_________________________________________________________________\n",
      "block5_conv2 (Conv2D)        (None, 9, 9, 512)         2359808   \n",
      "_________________________________________________________________\n",
      "block5_conv3 (Conv2D)        (None, 9, 9, 512)         2359808   \n",
      "_________________________________________________________________\n",
      "block5_pool (MaxPooling2D)   (None, 4, 4, 512)         0         \n",
      "=================================================================\n",
      "Total params: 14,714,688\n",
      "Trainable params: 14,714,688\n",
      "Non-trainable params: 0\n",
      "_________________________________________________________________\n"
     ]
    }
   ],
   "source": [
    "conv_base.summary()"
   ]
  },
  {
   "cell_type": "code",
   "execution_count": null,
   "metadata": {},
   "outputs": [],
   "source": []
  },
  {
   "cell_type": "code",
   "execution_count": null,
   "metadata": {},
   "outputs": [],
   "source": []
  },
  {
   "cell_type": "code",
   "execution_count": 7,
   "metadata": {},
   "outputs": [
    {
     "name": "stdout",
     "output_type": "stream",
     "text": [
      "Found 2000 images belonging to 2 classes.\n",
      "Found 1000 images belonging to 2 classes.\n",
      "Found 1000 images belonging to 2 classes.\n"
     ]
    }
   ],
   "source": [
    "import os\n",
    "import numpy as np\n",
    "from keras.preprocessing.image import ImageDataGenerator\n",
    "\n",
    "base_dir = 'foto/cats_and_dogs_smalls'\n",
    "\n",
    "train_dir = os.path.join(base_dir, 'train')\n",
    "validation_dir = os.path.join(base_dir, 'validation')\n",
    "test_dir = os.path.join(base_dir, 'test')\n",
    "\n",
    "datagen = ImageDataGenerator(rescale=1./255)\n",
    "batch_size = 20\n",
    "\n",
    "def extract_features(directory, sample_count):\n",
    "    features = np.zeros(shape=(sample_count, 4, 4, 512))\n",
    "    labels = np.zeros(shape=(sample_count))\n",
    "    generator = datagen.flow_from_directory(\n",
    "        directory,\n",
    "        target_size=(150, 150),\n",
    "        batch_size=batch_size,\n",
    "        class_mode='binary')\n",
    "    i = 0\n",
    "    for inputs_batch, labels_batch in generator:\n",
    "        features_batch = conv_base.predict(inputs_batch)\n",
    "        features[i * batch_size : (i + 1) * batch_size] = features_batch\n",
    "        labels[i * batch_size : (i + 1) * batch_size] = labels_batch\n",
    "        i += 1\n",
    "        if i * batch_size >= sample_count:\n",
    "            # Note that since generators yield data indefinitely in a loop,\n",
    "            # we must `break` after every image has been seen once.\n",
    "            break\n",
    "    return features, labels\n",
    "\n",
    "train_features, train_labels = extract_features(train_dir, 2000)\n",
    "validation_features, validation_labels = extract_features(validation_dir, 1000)\n",
    "test_features, test_labels = extract_features(test_dir, 1000)"
   ]
  },
  {
   "cell_type": "code",
   "execution_count": null,
   "metadata": {},
   "outputs": [],
   "source": []
  },
  {
   "cell_type": "code",
   "execution_count": 8,
   "metadata": {},
   "outputs": [],
   "source": [
    "train_features = np.reshape(train_features, (2000, 4 * 4 * 512))\n",
    "validation_features = np.reshape(validation_features, (1000, 4 * 4 * 512))\n",
    "test_features = np.reshape(test_features, (1000, 4 * 4 * 512))"
   ]
  },
  {
   "cell_type": "code",
   "execution_count": null,
   "metadata": {},
   "outputs": [],
   "source": []
  },
  {
   "cell_type": "code",
   "execution_count": 9,
   "metadata": {},
   "outputs": [
    {
     "name": "stdout",
     "output_type": "stream",
     "text": [
      "Train on 2000 samples, validate on 1000 samples\n",
      "Epoch 1/30\n",
      "2000/2000 [==============================] - 2s 1ms/step - loss: 0.6268 - acc: 0.6615 - val_loss: 0.4532 - val_acc: 0.8310\n",
      "Epoch 2/30\n",
      "2000/2000 [==============================] - 1s 408us/step - loss: 0.4391 - acc: 0.8020 - val_loss: 0.3704 - val_acc: 0.8610\n",
      "Epoch 3/30\n",
      "2000/2000 [==============================] - 1s 407us/step - loss: 0.3661 - acc: 0.8340 - val_loss: 0.3273 - val_acc: 0.8800\n",
      "Epoch 4/30\n",
      "2000/2000 [==============================] - 1s 411us/step - loss: 0.3163 - acc: 0.8720 - val_loss: 0.3030 - val_acc: 0.8870\n",
      "Epoch 5/30\n",
      "2000/2000 [==============================] - 1s 404us/step - loss: 0.2936 - acc: 0.8745 - val_loss: 0.2913 - val_acc: 0.8840\n",
      "Epoch 6/30\n",
      "2000/2000 [==============================] - 1s 409us/step - loss: 0.2674 - acc: 0.8930 - val_loss: 0.2752 - val_acc: 0.8960\n",
      "Epoch 7/30\n",
      "2000/2000 [==============================] - 1s 426us/step - loss: 0.2418 - acc: 0.9080 - val_loss: 0.2684 - val_acc: 0.8930\n",
      "Epoch 8/30\n",
      "2000/2000 [==============================] - 1s 414us/step - loss: 0.2342 - acc: 0.9085 - val_loss: 0.2586 - val_acc: 0.8940\n",
      "Epoch 9/30\n",
      "2000/2000 [==============================] - 1s 412us/step - loss: 0.2179 - acc: 0.9190 - val_loss: 0.2521 - val_acc: 0.8970\n",
      "Epoch 10/30\n",
      "2000/2000 [==============================] - 1s 406us/step - loss: 0.1992 - acc: 0.9285 - val_loss: 0.2495 - val_acc: 0.9020\n",
      "Epoch 11/30\n",
      "2000/2000 [==============================] - 1s 405us/step - loss: 0.1976 - acc: 0.9215 - val_loss: 0.2492 - val_acc: 0.9000\n",
      "Epoch 12/30\n",
      "2000/2000 [==============================] - 1s 417us/step - loss: 0.1861 - acc: 0.9305 - val_loss: 0.2437 - val_acc: 0.8980\n",
      "Epoch 13/30\n",
      "2000/2000 [==============================] - 1s 434us/step - loss: 0.1771 - acc: 0.9390 - val_loss: 0.2428 - val_acc: 0.8980\n",
      "Epoch 14/30\n",
      "2000/2000 [==============================] - 1s 411us/step - loss: 0.1679 - acc: 0.9435 - val_loss: 0.2489 - val_acc: 0.8950\n",
      "Epoch 15/30\n",
      "2000/2000 [==============================] - 1s 403us/step - loss: 0.1636 - acc: 0.9415 - val_loss: 0.2409 - val_acc: 0.8980\n",
      "Epoch 16/30\n",
      "2000/2000 [==============================] - 1s 413us/step - loss: 0.1671 - acc: 0.9380 - val_loss: 0.2391 - val_acc: 0.9000\n",
      "Epoch 17/30\n",
      "2000/2000 [==============================] - 1s 416us/step - loss: 0.1538 - acc: 0.9445 - val_loss: 0.2368 - val_acc: 0.8990\n",
      "Epoch 18/30\n",
      "2000/2000 [==============================] - 1s 422us/step - loss: 0.1445 - acc: 0.9500 - val_loss: 0.2425 - val_acc: 0.8970\n",
      "Epoch 19/30\n",
      "2000/2000 [==============================] - 1s 408us/step - loss: 0.1381 - acc: 0.9530 - val_loss: 0.2377 - val_acc: 0.9010\n",
      "Epoch 20/30\n",
      "2000/2000 [==============================] - 1s 410us/step - loss: 0.1359 - acc: 0.9560 - val_loss: 0.2397 - val_acc: 0.9000\n",
      "Epoch 21/30\n",
      "2000/2000 [==============================] - 1s 413us/step - loss: 0.1254 - acc: 0.9575 - val_loss: 0.2393 - val_acc: 0.9010\n",
      "Epoch 22/30\n",
      "2000/2000 [==============================] - 1s 406us/step - loss: 0.1227 - acc: 0.9635 - val_loss: 0.2450 - val_acc: 0.9010\n",
      "Epoch 23/30\n",
      "2000/2000 [==============================] - 1s 407us/step - loss: 0.1170 - acc: 0.9655 - val_loss: 0.2391 - val_acc: 0.9020\n",
      "Epoch 24/30\n",
      "2000/2000 [==============================] - 1s 405us/step - loss: 0.1149 - acc: 0.9630 - val_loss: 0.2450 - val_acc: 0.9040\n",
      "Epoch 25/30\n",
      "2000/2000 [==============================] - 1s 419us/step - loss: 0.1079 - acc: 0.9645 - val_loss: 0.2367 - val_acc: 0.9050\n",
      "Epoch 26/30\n",
      "2000/2000 [==============================] - 1s 416us/step - loss: 0.1091 - acc: 0.9645 - val_loss: 0.2351 - val_acc: 0.9050\n",
      "Epoch 27/30\n",
      "2000/2000 [==============================] - 1s 406us/step - loss: 0.1033 - acc: 0.9660 - val_loss: 0.2395 - val_acc: 0.9020\n",
      "Epoch 28/30\n",
      "2000/2000 [==============================] - 1s 413us/step - loss: 0.0966 - acc: 0.9705 - val_loss: 0.2377 - val_acc: 0.9030\n",
      "Epoch 29/30\n",
      "2000/2000 [==============================] - 1s 417us/step - loss: 0.0985 - acc: 0.9665 - val_loss: 0.2381 - val_acc: 0.9030\n",
      "Epoch 30/30\n",
      "2000/2000 [==============================] - 1s 417us/step - loss: 0.0910 - acc: 0.9730 - val_loss: 0.2385 - val_acc: 0.9040\n"
     ]
    }
   ],
   "source": [
    "\n",
    "from keras import models\n",
    "from keras import layers\n",
    "from keras import optimizers\n",
    "\n",
    "model = models.Sequential()\n",
    "model.add(layers.Dense(256, activation='relu', input_dim=4 * 4 * 512))\n",
    "model.add(layers.Dropout(0.5))\n",
    "model.add(layers.Dense(1, activation='sigmoid'))\n",
    "\n",
    "model.compile(optimizer=optimizers.RMSprop(lr=2e-5),\n",
    "              loss='binary_crossentropy',\n",
    "              metrics=['acc'])\n",
    "\n",
    "history = model.fit(train_features, train_labels,\n",
    "                    epochs=30,\n",
    "                    batch_size=20,\n",
    "                    validation_data=(validation_features, validation_labels))"
   ]
  },
  {
   "cell_type": "code",
   "execution_count": null,
   "metadata": {},
   "outputs": [],
   "source": []
  },
  {
   "cell_type": "code",
   "execution_count": null,
   "metadata": {},
   "outputs": [],
   "source": []
  },
  {
   "cell_type": "code",
   "execution_count": 11,
   "metadata": {},
   "outputs": [
    {
     "data": {
      "image/png": "[encoded data removed]",
      "text/plain": [
       "<Figure size 432x288 with 1 Axes>"
      ]
     },
     "metadata": {
      "needs_background": "light"
     },
     "output_type": "display_data"
    },
    {
     "data": {
      "image/png": "[encoded data removed]",
      "text/plain": [
       "<Figure size 432x288 with 1 Axes>"
      ]
     },
     "metadata": {
      "needs_background": "light"
     },
     "output_type": "display_data"
    }
   ],
   "source": [
    "\n",
    "import matplotlib.pyplot as plt\n",
    "\n",
    "acc = history.history['acc']\n",
    "val_acc = history.history['val_acc']\n",
    "loss = history.history['loss']\n",
    "val_loss = history.history['val_loss']\n",
    "\n",
    "epochs = range(len(acc))\n",
    "\n",
    "plt.plot(epochs, acc, 'bo', label='Training acc')\n",
    "plt.plot(epochs, val_acc, 'b', label='Validation acc')\n",
    "plt.title('Training and validation accuracy')\n",
    "plt.legend()\n",
    "\n",
    "plt.figure()\n",
    "\n",
    "plt.plot(epochs, loss, 'bo', label='Training loss')\n",
    "plt.plot(epochs, val_loss, 'b', label='Validation loss')\n",
    "plt.title('Training and validation loss')\n",
    "plt.legend()\n",
    "\n",
    "plt.show();"
   ]
  },
  {
   "cell_type": "code",
   "execution_count": null,
   "metadata": {},
   "outputs": [],
   "source": []
  },
  {
   "cell_type": "code",
   "execution_count": null,
   "metadata": {},
   "outputs": [],
   "source": []
  },
  {
   "cell_type": "code",
   "execution_count": 12,
   "metadata": {},
   "outputs": [],
   "source": [
    "from keras import models\n",
    "from keras import layers\n",
    "model = models.Sequential()\n",
    "model.add(conv_base)\n",
    "model.add(layers.Flatten())\n",
    "model.add(layers.Dense(256, activation='relu'))\n",
    "model.add(layers.Dense(1, activation='sigmoid'))"
   ]
  },
  {
   "cell_type": "code",
   "execution_count": null,
   "metadata": {},
   "outputs": [],
   "source": []
  },
  {
   "cell_type": "code",
   "execution_count": null,
   "metadata": {},
   "outputs": [],
   "source": []
  },
  {
   "cell_type": "code",
   "execution_count": 13,
   "metadata": {},
   "outputs": [
    {
     "name": "stdout",
     "output_type": "stream",
     "text": [
      "_________________________________________________________________\n",
      "Layer (type)                 Output Shape              Param #   \n",
      "=================================================================\n",
      "vgg16 (Model)                (None, 4, 4, 512)         14714688  \n",
      "_________________________________________________________________\n",
      "flatten_1 (Flatten)          (None, 8192)              0         \n",
      "_________________________________________________________________\n",
      "dense_3 (Dense)              (None, 256)               2097408   \n",
      "_________________________________________________________________\n",
      "dense_4 (Dense)              (None, 1)                 257       \n",
      "=================================================================\n",
      "Total params: 16,812,353\n",
      "Trainable params: 16,812,353\n",
      "Non-trainable params: 0\n",
      "_________________________________________________________________\n"
     ]
    }
   ],
   "source": [
    "model.summary()"
   ]
  },
  {
   "cell_type": "code",
   "execution_count": null,
   "metadata": {},
   "outputs": [],
   "source": []
  },
  {
   "cell_type": "code",
   "execution_count": null,
   "metadata": {},
   "outputs": [],
   "source": []
  },
  {
   "cell_type": "code",
   "execution_count": null,
   "metadata": {},
   "outputs": [],
   "source": []
  },
  {
   "cell_type": "code",
   "execution_count": 14,
   "metadata": {},
   "outputs": [
    {
     "name": "stdout",
     "output_type": "stream",
     "text": [
      "This is the number of trainable weights before freezing the conv base: 30\n"
     ]
    }
   ],
   "source": [
    "print('This is the number of trainable weights '\n",
    "'before freezing the conv base:', len(model.trainable_weights))"
   ]
  },
  {
   "cell_type": "code",
   "execution_count": 15,
   "metadata": {},
   "outputs": [],
   "source": [
    "conv_base.trainable = False"
   ]
  },
  {
   "cell_type": "code",
   "execution_count": null,
   "metadata": {},
   "outputs": [],
   "source": []
  },
  {
   "cell_type": "code",
   "execution_count": null,
   "metadata": {},
   "outputs": [],
   "source": []
  },
  {
   "cell_type": "code",
   "execution_count": 16,
   "metadata": {},
   "outputs": [
    {
     "name": "stdout",
     "output_type": "stream",
     "text": [
      "This is the number of trainable weights after freezing the conv base: 4\n"
     ]
    }
   ],
   "source": [
    "print('This is the number of trainable weights '\n",
    "'after freezing the conv base:', len(model.trainable_weights))"
   ]
  },
  {
   "cell_type": "code",
   "execution_count": null,
   "metadata": {},
   "outputs": [],
   "source": []
  },
  {
   "cell_type": "code",
   "execution_count": 17,
   "metadata": {},
   "outputs": [],
   "source": [
    "model.compile(loss='binary_crossentropy', optimizer=optimizers.RMSprop(lr=2e-5), metrics=['acc'])"
   ]
  },
  {
   "cell_type": "code",
   "execution_count": 18,
   "metadata": {},
   "outputs": [
    {
     "name": "stdout",
     "output_type": "stream",
     "text": [
      "Found 2000 images belonging to 2 classes.\n",
      "Found 1000 images belonging to 2 classes.\n"
     ]
    }
   ],
   "source": [
    "from keras.preprocessing.image import ImageDataGenerator\n",
    "\n",
    "train_datagen = ImageDataGenerator(\n",
    "      rescale=1./255,\n",
    "      rotation_range=40,\n",
    "      width_shift_range=0.2,\n",
    "      height_shift_range=0.2,\n",
    "      shear_range=0.2,\n",
    "      zoom_range=0.2,\n",
    "      horizontal_flip=True,\n",
    "      fill_mode='nearest')\n",
    "test_datagen = ImageDataGenerator(rescale=1./255)\n",
    "train_generator = train_datagen.flow_from_directory(\n",
    "        # This is the target directory\n",
    "        train_dir,\n",
    "        # All images will be resized to 150x150\n",
    "        target_size=(150, 150),\n",
    "        batch_size=20,\n",
    "        # Since we use binary_crossentropy loss, we need binary labels\n",
    "        class_mode='binary')\n",
    "\n",
    "validation_generator = test_datagen.flow_from_directory(\n",
    "        validation_dir,\n",
    "        target_size=(150, 150),\n",
    "        batch_size=20,\n",
    "        class_mode='binary')"
   ]
  },
  {
   "cell_type": "code",
   "execution_count": null,
   "metadata": {},
   "outputs": [],
   "source": []
  },
  {
   "cell_type": "code",
   "execution_count": 19,
   "metadata": {},
   "outputs": [
    {
     "name": "stdout",
     "output_type": "stream",
     "text": [
      "Epoch 1/30\n",
      " - 61s - loss: 0.5940 - acc: 0.6855 - val_loss: 0.4531 - val_acc: 0.8220\n",
      "Epoch 2/30\n",
      " - 50s - loss: 0.4840 - acc: 0.7760 - val_loss: 0.3707 - val_acc: 0.8470\n",
      "Epoch 3/30\n",
      " - 50s - loss: 0.4322 - acc: 0.8085 - val_loss: 0.3297 - val_acc: 0.8640\n",
      "Epoch 4/30\n",
      " - 50s - loss: 0.4020 - acc: 0.8225 - val_loss: 0.3082 - val_acc: 0.8770\n",
      "Epoch 5/30\n",
      " - 50s - loss: 0.3802 - acc: 0.8340 - val_loss: 0.3059 - val_acc: 0.8680\n",
      "Epoch 6/30\n",
      " - 50s - loss: 0.3677 - acc: 0.8280 - val_loss: 0.2827 - val_acc: 0.8910\n",
      "Epoch 7/30\n",
      " - 50s - loss: 0.3525 - acc: 0.8480 - val_loss: 0.2741 - val_acc: 0.8820\n",
      "Epoch 8/30\n",
      " - 50s - loss: 0.3500 - acc: 0.8500 - val_loss: 0.2659 - val_acc: 0.8940\n",
      "Epoch 9/30\n",
      " - 50s - loss: 0.3473 - acc: 0.8450 - val_loss: 0.2623 - val_acc: 0.8970\n",
      "Epoch 10/30\n",
      " - 51s - loss: 0.3318 - acc: 0.8620 - val_loss: 0.2626 - val_acc: 0.8950\n",
      "Epoch 11/30\n",
      " - 50s - loss: 0.3271 - acc: 0.8540 - val_loss: 0.2644 - val_acc: 0.8880\n",
      "Epoch 12/30\n",
      " - 50s - loss: 0.3279 - acc: 0.8560 - val_loss: 0.2599 - val_acc: 0.8930\n",
      "Epoch 13/30\n",
      " - 50s - loss: 0.3247 - acc: 0.8515 - val_loss: 0.2502 - val_acc: 0.8950\n",
      "Epoch 14/30\n",
      " - 50s - loss: 0.3232 - acc: 0.8565 - val_loss: 0.2477 - val_acc: 0.8980\n",
      "Epoch 15/30\n",
      " - 51s - loss: 0.3128 - acc: 0.8590 - val_loss: 0.2708 - val_acc: 0.8800\n",
      "Epoch 16/30\n",
      " - 50s - loss: 0.3027 - acc: 0.8670 - val_loss: 0.2552 - val_acc: 0.8950\n",
      "Epoch 17/30\n",
      " - 50s - loss: 0.3049 - acc: 0.8610 - val_loss: 0.2460 - val_acc: 0.9000\n",
      "Epoch 18/30\n",
      " - 50s - loss: 0.3075 - acc: 0.8635 - val_loss: 0.2428 - val_acc: 0.9040\n",
      "Epoch 19/30\n",
      " - 50s - loss: 0.3080 - acc: 0.8660 - val_loss: 0.2369 - val_acc: 0.9070\n",
      "Epoch 20/30\n",
      " - 50s - loss: 0.3024 - acc: 0.8640 - val_loss: 0.2385 - val_acc: 0.9040\n",
      "Epoch 21/30\n",
      " - 50s - loss: 0.3060 - acc: 0.8680 - val_loss: 0.2460 - val_acc: 0.8950\n",
      "Epoch 22/30\n",
      " - 50s - loss: 0.2984 - acc: 0.8690 - val_loss: 0.2366 - val_acc: 0.9010\n",
      "Epoch 23/30\n",
      " - 50s - loss: 0.2919 - acc: 0.8805 - val_loss: 0.2354 - val_acc: 0.9010\n",
      "Epoch 24/30\n",
      " - 50s - loss: 0.2913 - acc: 0.8810 - val_loss: 0.2422 - val_acc: 0.9020\n",
      "Epoch 25/30\n",
      " - 50s - loss: 0.2939 - acc: 0.8735 - val_loss: 0.2338 - val_acc: 0.9050\n",
      "Epoch 26/30\n",
      " - 50s - loss: 0.2914 - acc: 0.8740 - val_loss: 0.2322 - val_acc: 0.9070\n",
      "Epoch 27/30\n",
      " - 50s - loss: 0.2870 - acc: 0.8770 - val_loss: 0.2332 - val_acc: 0.9050\n",
      "Epoch 28/30\n",
      " - 50s - loss: 0.2772 - acc: 0.8775 - val_loss: 0.2330 - val_acc: 0.9020\n",
      "Epoch 29/30\n",
      " - 50s - loss: 0.2849 - acc: 0.8805 - val_loss: 0.2383 - val_acc: 0.9020\n",
      "Epoch 30/30\n",
      " - 50s - loss: 0.2734 - acc: 0.8835 - val_loss: 0.2338 - val_acc: 0.9030\n"
     ]
    }
   ],
   "source": [
    "history = model.fit_generator(\n",
    "      train_generator,\n",
    "      steps_per_epoch=100,\n",
    "      epochs=30,\n",
    "      validation_data=validation_generator,\n",
    "      validation_steps=50,\n",
    "      verbose=2)"
   ]
  },
  {
   "cell_type": "code",
   "execution_count": null,
   "metadata": {},
   "outputs": [],
   "source": []
  },
  {
   "cell_type": "code",
   "execution_count": null,
   "metadata": {},
   "outputs": [],
   "source": []
  },
  {
   "cell_type": "code",
   "execution_count": 20,
   "metadata": {},
   "outputs": [],
   "source": [
    "model.save('cats_and_dogs_big_3.h5')"
   ]
  },
  {
   "cell_type": "code",
   "execution_count": null,
   "metadata": {},
   "outputs": [],
   "source": []
  },
  {
   "cell_type": "code",
   "execution_count": 21,
   "metadata": {},
   "outputs": [
    {
     "data": {
      "image/png": "[encoded data removed]",
      "text/plain": [
       "<Figure size 432x288 with 1 Axes>"
      ]
     },
     "metadata": {
      "needs_background": "light"
     },
     "output_type": "display_data"
    },
    {
     "data": {
      "image/png": "[encoded data removed]",
      "text/plain": [
       "<Figure size 432x288 with 1 Axes>"
      ]
     },
     "metadata": {
      "needs_background": "light"
     },
     "output_type": "display_data"
    }
   ],
   "source": [
    "\n",
    "acc = history.history['acc']\n",
    "val_acc = history.history['val_acc']\n",
    "loss = history.history['loss']\n",
    "val_loss = history.history['val_loss']\n",
    "\n",
    "epochs = range(len(acc))\n",
    "\n",
    "plt.plot(epochs, acc, 'bo', label='Training acc')\n",
    "plt.plot(epochs, val_acc, 'b', label='Validation acc')\n",
    "plt.title('Training and validation accuracy')\n",
    "plt.legend()\n",
    "\n",
    "plt.figure()\n",
    "\n",
    "plt.plot(epochs, loss, 'bo', label='Training loss')\n",
    "plt.plot(epochs, val_loss, 'b', label='Validation loss')\n",
    "plt.title('Training and validation loss')\n",
    "plt.legend()\n",
    "\n",
    "plt.show()"
   ]
  },
  {
   "cell_type": "code",
   "execution_count": null,
   "metadata": {},
   "outputs": [],
   "source": []
  },
  {
   "cell_type": "code",
   "execution_count": null,
   "metadata": {},
   "outputs": [],
   "source": []
  },
  {
   "cell_type": "code",
   "execution_count": null,
   "metadata": {},
   "outputs": [],
   "source": []
  },
  {
   "cell_type": "code",
   "execution_count": 22,
   "metadata": {},
   "outputs": [
    {
     "name": "stdout",
     "output_type": "stream",
     "text": [
      "_________________________________________________________________\n",
      "Layer (type)                 Output Shape              Param #   \n",
      "=================================================================\n",
      "input_1 (InputLayer)         (None, 150, 150, 3)       0         \n",
      "_________________________________________________________________\n",
      "block1_conv1 (Conv2D)        (None, 150, 150, 64)      1792      \n",
      "_________________________________________________________________\n",
      "block1_conv2 (Conv2D)        (None, 150, 150, 64)      36928     \n",
      "_________________________________________________________________\n",
      "block1_pool (MaxPooling2D)   (None, 75, 75, 64)        0         \n",
      "_________________________________________________________________\n",
      "block2_conv1 (Conv2D)        (None, 75, 75, 128)       73856     \n",
      "_________________________________________________________________\n",
      "block2_conv2 (Conv2D)        (None, 75, 75, 128)       147584    \n",
      "_________________________________________________________________\n",
      "block2_pool (MaxPooling2D)   (None, 37, 37, 128)       0         \n",
      "_________________________________________________________________\n",
      "block3_conv1 (Conv2D)        (None, 37, 37, 256)       295168    \n",
      "_________________________________________________________________\n",
      "block3_conv2 (Conv2D)        (None, 37, 37, 256)       590080    \n",
      "_________________________________________________________________\n",
      "block3_conv3 (Conv2D)        (None, 37, 37, 256)       590080    \n",
      "_________________________________________________________________\n",
      "block3_pool (MaxPooling2D)   (None, 18, 18, 256)       0         \n",
      "_________________________________________________________________\n",
      "block4_conv1 (Conv2D)        (None, 18, 18, 512)       1180160   \n",
      "_________________________________________________________________\n",
      "block4_conv2 (Conv2D)        (None, 18, 18, 512)       2359808   \n",
      "_________________________________________________________________\n",
      "block4_conv3 (Conv2D)        (None, 18, 18, 512)       2359808   \n",
      "_________________________________________________________________\n",
      "block4_pool (MaxPooling2D)   (None, 9, 9, 512)         0         \n",
      "_________________________________________________________________\n",
      "block5_conv1 (Conv2D)        (None, 9, 9, 512)         2359808   \n",
      "_________________________________________________________________\n",
      "block5_conv2 (Conv2D)        (None, 9, 9, 512)         2359808   \n",
      "_________________________________________________________________\n",
      "block5_conv3 (Conv2D)        (None, 9, 9, 512)         2359808   \n",
      "_________________________________________________________________\n",
      "block5_pool (MaxPooling2D)   (None, 4, 4, 512)         0         \n",
      "=================================================================\n",
      "Total params: 14,714,688\n",
      "Trainable params: 0\n",
      "Non-trainable params: 14,714,688\n",
      "_________________________________________________________________\n"
     ]
    }
   ],
   "source": [
    "conv_base.summary()"
   ]
  },
  {
   "cell_type": "code",
   "execution_count": null,
   "metadata": {},
   "outputs": [],
   "source": []
  },
  {
   "cell_type": "code",
   "execution_count": null,
   "metadata": {},
   "outputs": [],
   "source": []
  },
  {
   "cell_type": "code",
   "execution_count": 23,
   "metadata": {},
   "outputs": [],
   "source": [
    "conv_base.trainable = True\n",
    "\n",
    "set_trainable = False\n",
    "for layer in conv_base.layers:\n",
    "    if layer.name == 'block5_conv1':\n",
    "        set_trainable = True\n",
    "    if set_trainable:\n",
    "        layer.trainable = True\n",
    "    else:\n",
    "        layer.trainable = False"
   ]
  },
  {
   "cell_type": "code",
   "execution_count": null,
   "metadata": {},
   "outputs": [],
   "source": []
  },
  {
   "cell_type": "code",
   "execution_count": null,
   "metadata": {},
   "outputs": [],
   "source": []
  },
  {
   "cell_type": "code",
   "execution_count": 24,
   "metadata": {},
   "outputs": [
    {
     "name": "stdout",
     "output_type": "stream",
     "text": [
      "Epoch 1/100\n",
      "100/100 [==============================] - 63s 627ms/step - loss: 0.2900 - acc: 0.8750 - val_loss: 0.2187 - val_acc: 0.9110\n",
      "Epoch 2/100\n",
      "100/100 [==============================] - 55s 555ms/step - loss: 0.2717 - acc: 0.8815 - val_loss: 0.2117 - val_acc: 0.9160\n",
      "Epoch 3/100\n",
      "100/100 [==============================] - 55s 553ms/step - loss: 0.2465 - acc: 0.8910 - val_loss: 0.2701 - val_acc: 0.8960\n",
      "Epoch 4/100\n",
      "100/100 [==============================] - 55s 552ms/step - loss: 0.2285 - acc: 0.9100 - val_loss: 0.2222 - val_acc: 0.9120\n",
      "Epoch 5/100\n",
      "100/100 [==============================] - 55s 554ms/step - loss: 0.2047 - acc: 0.9170 - val_loss: 0.1851 - val_acc: 0.9340\n",
      "Epoch 6/100\n",
      "100/100 [==============================] - 55s 553ms/step - loss: 0.1992 - acc: 0.9205 - val_loss: 0.1866 - val_acc: 0.9320\n",
      "Epoch 7/100\n",
      "100/100 [==============================] - 56s 557ms/step - loss: 0.1904 - acc: 0.9265 - val_loss: 0.1782 - val_acc: 0.9300\n",
      "Epoch 8/100\n",
      "100/100 [==============================] - 56s 557ms/step - loss: 0.1726 - acc: 0.9290 - val_loss: 0.1942 - val_acc: 0.9230\n",
      "Epoch 9/100\n",
      "100/100 [==============================] - 56s 557ms/step - loss: 0.1646 - acc: 0.9290 - val_loss: 0.1721 - val_acc: 0.9330\n",
      "Epoch 10/100\n",
      "100/100 [==============================] - 56s 558ms/step - loss: 0.1505 - acc: 0.9385 - val_loss: 0.2042 - val_acc: 0.9300\n",
      "Epoch 11/100\n",
      "100/100 [==============================] - 56s 557ms/step - loss: 0.1519 - acc: 0.9370 - val_loss: 0.1934 - val_acc: 0.9270\n",
      "Epoch 12/100\n",
      "100/100 [==============================] - 56s 557ms/step - loss: 0.1470 - acc: 0.9400 - val_loss: 0.2033 - val_acc: 0.9270\n",
      "Epoch 13/100\n",
      "100/100 [==============================] - 56s 557ms/step - loss: 0.1133 - acc: 0.9610 - val_loss: 0.2023 - val_acc: 0.9320\n",
      "Epoch 14/100\n",
      "100/100 [==============================] - 56s 557ms/step - loss: 0.1256 - acc: 0.9475 - val_loss: 0.2014 - val_acc: 0.9310\n",
      "Epoch 15/100\n",
      "100/100 [==============================] - 56s 558ms/step - loss: 0.1250 - acc: 0.9520 - val_loss: 0.2003 - val_acc: 0.9300\n",
      "Epoch 16/100\n",
      "100/100 [==============================] - 56s 557ms/step - loss: 0.0995 - acc: 0.9600 - val_loss: 0.1952 - val_acc: 0.9340\n",
      "Epoch 17/100\n",
      "100/100 [==============================] - 56s 557ms/step - loss: 0.1046 - acc: 0.9630 - val_loss: 0.1942 - val_acc: 0.9260\n",
      "Epoch 18/100\n",
      "100/100 [==============================] - 56s 557ms/step - loss: 0.1141 - acc: 0.9560 - val_loss: 0.2017 - val_acc: 0.9320\n",
      "Epoch 19/100\n",
      "100/100 [==============================] - 56s 557ms/step - loss: 0.1083 - acc: 0.9570 - val_loss: 0.1771 - val_acc: 0.9350\n",
      "Epoch 20/100\n",
      "100/100 [==============================] - 56s 558ms/step - loss: 0.0933 - acc: 0.9640 - val_loss: 0.1767 - val_acc: 0.9380\n",
      "Epoch 21/100\n",
      "100/100 [==============================] - 56s 558ms/step - loss: 0.0878 - acc: 0.9630 - val_loss: 0.1916 - val_acc: 0.9350\n",
      "Epoch 22/100\n",
      "100/100 [==============================] - 56s 557ms/step - loss: 0.0897 - acc: 0.9700 - val_loss: 0.3204 - val_acc: 0.9070\n",
      "Epoch 23/100\n",
      "100/100 [==============================] - 56s 558ms/step - loss: 0.0991 - acc: 0.9630 - val_loss: 0.1800 - val_acc: 0.9300\n",
      "Epoch 24/100\n",
      "100/100 [==============================] - 56s 557ms/step - loss: 0.0825 - acc: 0.9700 - val_loss: 0.2055 - val_acc: 0.9290\n",
      "Epoch 25/100\n",
      "100/100 [==============================] - 56s 558ms/step - loss: 0.0779 - acc: 0.9705 - val_loss: 0.2118 - val_acc: 0.9300\n",
      "Epoch 26/100\n",
      "100/100 [==============================] - 55s 554ms/step - loss: 0.0739 - acc: 0.9705 - val_loss: 0.1943 - val_acc: 0.9330\n",
      "Epoch 27/100\n",
      "100/100 [==============================] - 56s 556ms/step - loss: 0.0763 - acc: 0.9715 - val_loss: 0.2554 - val_acc: 0.9230\n",
      "Epoch 28/100\n",
      "100/100 [==============================] - 56s 558ms/step - loss: 0.0737 - acc: 0.9765 - val_loss: 0.3680 - val_acc: 0.9040\n",
      "Epoch 29/100\n",
      "100/100 [==============================] - 56s 557ms/step - loss: 0.0762 - acc: 0.9685 - val_loss: 0.2214 - val_acc: 0.9260\n",
      "Epoch 30/100\n",
      "100/100 [==============================] - 56s 557ms/step - loss: 0.0746 - acc: 0.9720 - val_loss: 0.1952 - val_acc: 0.9340\n",
      "Epoch 31/100\n",
      "100/100 [==============================] - 56s 558ms/step - loss: 0.0650 - acc: 0.9755 - val_loss: 0.1997 - val_acc: 0.9350\n",
      "Epoch 32/100\n",
      "100/100 [==============================] - 56s 558ms/step - loss: 0.0640 - acc: 0.9765 - val_loss: 0.2227 - val_acc: 0.9320\n",
      "Epoch 33/100\n",
      "100/100 [==============================] - 56s 558ms/step - loss: 0.0600 - acc: 0.9780 - val_loss: 0.2144 - val_acc: 0.9280\n",
      "Epoch 34/100\n",
      "100/100 [==============================] - 56s 558ms/step - loss: 0.0599 - acc: 0.9790 - val_loss: 0.1985 - val_acc: 0.9320\n",
      "Epoch 35/100\n",
      "100/100 [==============================] - 56s 557ms/step - loss: 0.0540 - acc: 0.9780 - val_loss: 0.2241 - val_acc: 0.9330\n",
      "Epoch 36/100\n",
      "100/100 [==============================] - 56s 558ms/step - loss: 0.0503 - acc: 0.9835 - val_loss: 0.2108 - val_acc: 0.9290\n",
      "Epoch 37/100\n",
      "100/100 [==============================] - 56s 558ms/step - loss: 0.0502 - acc: 0.9810 - val_loss: 0.2263 - val_acc: 0.9300\n",
      "Epoch 38/100\n",
      "100/100 [==============================] - 56s 557ms/step - loss: 0.0568 - acc: 0.9795 - val_loss: 0.2167 - val_acc: 0.9340\n",
      "Epoch 39/100\n",
      "100/100 [==============================] - 56s 558ms/step - loss: 0.0378 - acc: 0.9870 - val_loss: 0.2520 - val_acc: 0.9270\n",
      "Epoch 40/100\n",
      "100/100 [==============================] - 56s 558ms/step - loss: 0.0603 - acc: 0.9810 - val_loss: 0.2158 - val_acc: 0.9290\n",
      "Epoch 41/100\n",
      "100/100 [==============================] - 56s 558ms/step - loss: 0.0442 - acc: 0.9850 - val_loss: 0.2464 - val_acc: 0.9300\n",
      "Epoch 42/100\n",
      "100/100 [==============================] - 56s 558ms/step - loss: 0.0465 - acc: 0.9825 - val_loss: 0.2350 - val_acc: 0.9300\n",
      "Epoch 43/100\n",
      "100/100 [==============================] - 56s 557ms/step - loss: 0.0454 - acc: 0.9800 - val_loss: 0.3026 - val_acc: 0.9210\n",
      "Epoch 44/100\n",
      "100/100 [==============================] - 56s 557ms/step - loss: 0.0487 - acc: 0.9830 - val_loss: 0.2151 - val_acc: 0.9420\n",
      "Epoch 45/100\n",
      "100/100 [==============================] - 56s 558ms/step - loss: 0.0502 - acc: 0.9820 - val_loss: 0.2153 - val_acc: 0.9360\n",
      "Epoch 46/100\n",
      "100/100 [==============================] - 56s 557ms/step - loss: 0.0429 - acc: 0.9855 - val_loss: 0.2324 - val_acc: 0.9350\n",
      "Epoch 47/100\n",
      "100/100 [==============================] - 56s 557ms/step - loss: 0.0441 - acc: 0.9845 - val_loss: 0.2638 - val_acc: 0.9260\n",
      "Epoch 48/100\n",
      "100/100 [==============================] - 56s 557ms/step - loss: 0.0452 - acc: 0.9805 - val_loss: 0.2623 - val_acc: 0.9230\n",
      "Epoch 49/100\n",
      "100/100 [==============================] - 56s 557ms/step - loss: 0.0504 - acc: 0.9805 - val_loss: 0.2947 - val_acc: 0.9260\n",
      "Epoch 50/100\n",
      "100/100 [==============================] - 56s 558ms/step - loss: 0.0422 - acc: 0.9845 - val_loss: 0.2527 - val_acc: 0.9290\n",
      "Epoch 51/100\n",
      "100/100 [==============================] - 56s 557ms/step - loss: 0.0350 - acc: 0.9900 - val_loss: 0.2326 - val_acc: 0.9280\n",
      "Epoch 52/100\n",
      "100/100 [==============================] - 56s 557ms/step - loss: 0.0350 - acc: 0.9880 - val_loss: 0.2398 - val_acc: 0.9260\n",
      "Epoch 53/100\n",
      "100/100 [==============================] - 56s 558ms/step - loss: 0.0453 - acc: 0.9840 - val_loss: 0.2588 - val_acc: 0.9280\n",
      "Epoch 54/100\n",
      "100/100 [==============================] - 56s 557ms/step - loss: 0.0314 - acc: 0.9875 - val_loss: 0.2424 - val_acc: 0.9300\n",
      "Epoch 55/100\n",
      "100/100 [==============================] - 56s 557ms/step - loss: 0.0421 - acc: 0.9845 - val_loss: 0.2422 - val_acc: 0.9300\n",
      "Epoch 56/100\n",
      "100/100 [==============================] - 56s 557ms/step - loss: 0.0309 - acc: 0.9875 - val_loss: 0.2598 - val_acc: 0.9300\n",
      "Epoch 57/100\n",
      "100/100 [==============================] - 56s 558ms/step - loss: 0.0349 - acc: 0.9875 - val_loss: 0.2501 - val_acc: 0.9330\n",
      "Epoch 58/100\n",
      "100/100 [==============================] - 56s 557ms/step - loss: 0.0335 - acc: 0.9875 - val_loss: 0.2514 - val_acc: 0.9320\n",
      "Epoch 59/100\n",
      "100/100 [==============================] - 56s 557ms/step - loss: 0.0263 - acc: 0.9935 - val_loss: 0.2406 - val_acc: 0.9350\n",
      "Epoch 60/100\n",
      "100/100 [==============================] - 56s 557ms/step - loss: 0.0496 - acc: 0.9830 - val_loss: 0.2294 - val_acc: 0.9370\n"
     ]
    },
    {
     "name": "stdout",
     "output_type": "stream",
     "text": [
      "Epoch 61/100\n",
      "100/100 [==============================] - 56s 558ms/step - loss: 0.0287 - acc: 0.9905 - val_loss: 0.2800 - val_acc: 0.9300\n",
      "Epoch 62/100\n",
      "100/100 [==============================] - 56s 556ms/step - loss: 0.0377 - acc: 0.9880 - val_loss: 0.2238 - val_acc: 0.9290\n",
      "Epoch 63/100\n",
      "100/100 [==============================] - 56s 557ms/step - loss: 0.0214 - acc: 0.9935 - val_loss: 0.2540 - val_acc: 0.9350\n",
      "Epoch 64/100\n",
      "100/100 [==============================] - 56s 557ms/step - loss: 0.0319 - acc: 0.9900 - val_loss: 0.2224 - val_acc: 0.9360\n",
      "Epoch 65/100\n",
      "100/100 [==============================] - 56s 556ms/step - loss: 0.0298 - acc: 0.9870 - val_loss: 0.2598 - val_acc: 0.9320\n",
      "Epoch 66/100\n",
      "100/100 [==============================] - 57s 573ms/step - loss: 0.0297 - acc: 0.9910 - val_loss: 0.2243 - val_acc: 0.9360\n",
      "Epoch 67/100\n",
      "100/100 [==============================] - 56s 556ms/step - loss: 0.0289 - acc: 0.9895 - val_loss: 0.2781 - val_acc: 0.9290\n",
      "Epoch 68/100\n",
      "100/100 [==============================] - 56s 556ms/step - loss: 0.0315 - acc: 0.9885 - val_loss: 0.4013 - val_acc: 0.9200\n",
      "Epoch 69/100\n",
      "100/100 [==============================] - 56s 557ms/step - loss: 0.0272 - acc: 0.9915 - val_loss: 0.2862 - val_acc: 0.9330\n",
      "Epoch 70/100\n",
      "100/100 [==============================] - 56s 557ms/step - loss: 0.0317 - acc: 0.9885 - val_loss: 0.3015 - val_acc: 0.9330\n",
      "Epoch 71/100\n",
      "100/100 [==============================] - 56s 557ms/step - loss: 0.0181 - acc: 0.9950 - val_loss: 0.2781 - val_acc: 0.9360\n",
      "Epoch 72/100\n",
      "100/100 [==============================] - 56s 557ms/step - loss: 0.0232 - acc: 0.9910 - val_loss: 0.3019 - val_acc: 0.9300\n",
      "Epoch 73/100\n",
      "100/100 [==============================] - 56s 557ms/step - loss: 0.0259 - acc: 0.9910 - val_loss: 0.2596 - val_acc: 0.9330\n",
      "Epoch 74/100\n",
      "100/100 [==============================] - 56s 557ms/step - loss: 0.0315 - acc: 0.9920 - val_loss: 0.2486 - val_acc: 0.9390\n",
      "Epoch 75/100\n",
      "100/100 [==============================] - 56s 556ms/step - loss: 0.0199 - acc: 0.9915 - val_loss: 0.2708 - val_acc: 0.9370\n",
      "Epoch 76/100\n",
      "100/100 [==============================] - 56s 557ms/step - loss: 0.0249 - acc: 0.9925 - val_loss: 0.3377 - val_acc: 0.9280\n",
      "Epoch 77/100\n",
      "100/100 [==============================] - 56s 556ms/step - loss: 0.0366 - acc: 0.9895 - val_loss: 0.2671 - val_acc: 0.9370\n",
      "Epoch 78/100\n",
      "100/100 [==============================] - 56s 556ms/step - loss: 0.0225 - acc: 0.9935 - val_loss: 0.6726 - val_acc: 0.8900\n",
      "Epoch 79/100\n",
      "100/100 [==============================] - 56s 556ms/step - loss: 0.0150 - acc: 0.9935 - val_loss: 0.4965 - val_acc: 0.9110\n",
      "Epoch 80/100\n",
      "100/100 [==============================] - 56s 556ms/step - loss: 0.0226 - acc: 0.9915 - val_loss: 0.2754 - val_acc: 0.9320\n",
      "Epoch 81/100\n",
      "100/100 [==============================] - 56s 556ms/step - loss: 0.0201 - acc: 0.9940 - val_loss: 0.3493 - val_acc: 0.9280\n",
      "Epoch 82/100\n",
      "100/100 [==============================] - 56s 557ms/step - loss: 0.0256 - acc: 0.9910 - val_loss: 0.2857 - val_acc: 0.9280\n",
      "Epoch 83/100\n",
      "100/100 [==============================] - 56s 556ms/step - loss: 0.0252 - acc: 0.9915 - val_loss: 0.2940 - val_acc: 0.9290\n",
      "Epoch 84/100\n",
      "100/100 [==============================] - 56s 557ms/step - loss: 0.0234 - acc: 0.9940 - val_loss: 0.2535 - val_acc: 0.9410\n",
      "Epoch 85/100\n",
      "100/100 [==============================] - 56s 556ms/step - loss: 0.0332 - acc: 0.9920 - val_loss: 0.5013 - val_acc: 0.9130\n",
      "Epoch 86/100\n",
      "100/100 [==============================] - 56s 556ms/step - loss: 0.0240 - acc: 0.9925 - val_loss: 0.3673 - val_acc: 0.9220\n",
      "Epoch 87/100\n",
      "100/100 [==============================] - 56s 556ms/step - loss: 0.0279 - acc: 0.9885 - val_loss: 0.2297 - val_acc: 0.9350\n",
      "Epoch 88/100\n",
      "100/100 [==============================] - 56s 557ms/step - loss: 0.0151 - acc: 0.9965 - val_loss: 0.2837 - val_acc: 0.9370\n",
      "Epoch 89/100\n",
      "100/100 [==============================] - 56s 557ms/step - loss: 0.0231 - acc: 0.9910 - val_loss: 0.4259 - val_acc: 0.9180\n",
      "Epoch 90/100\n",
      "100/100 [==============================] - 56s 555ms/step - loss: 0.0194 - acc: 0.9930 - val_loss: 0.4296 - val_acc: 0.9230\n",
      "Epoch 91/100\n",
      "100/100 [==============================] - 56s 558ms/step - loss: 0.0160 - acc: 0.9950 - val_loss: 0.2732 - val_acc: 0.9440\n",
      "Epoch 92/100\n",
      "100/100 [==============================] - 55s 549ms/step - loss: 0.0178 - acc: 0.9940 - val_loss: 0.3212 - val_acc: 0.9270\n",
      "Epoch 93/100\n",
      "100/100 [==============================] - 56s 556ms/step - loss: 0.0195 - acc: 0.9930 - val_loss: 0.2510 - val_acc: 0.9420\n",
      "Epoch 94/100\n",
      "100/100 [==============================] - 56s 556ms/step - loss: 0.0186 - acc: 0.9930 - val_loss: 0.3036 - val_acc: 0.9360\n",
      "Epoch 95/100\n",
      "100/100 [==============================] - 56s 556ms/step - loss: 0.0147 - acc: 0.9955 - val_loss: 0.2526 - val_acc: 0.9390\n",
      "Epoch 96/100\n",
      "100/100 [==============================] - 56s 555ms/step - loss: 0.0150 - acc: 0.9940 - val_loss: 0.2690 - val_acc: 0.9410\n",
      "Epoch 97/100\n",
      "100/100 [==============================] - 56s 556ms/step - loss: 0.0252 - acc: 0.9930 - val_loss: 0.4035 - val_acc: 0.9200\n",
      "Epoch 98/100\n",
      "100/100 [==============================] - 56s 556ms/step - loss: 0.0238 - acc: 0.9935 - val_loss: 0.3686 - val_acc: 0.9250\n",
      "Epoch 99/100\n",
      "100/100 [==============================] - 56s 556ms/step - loss: 0.0108 - acc: 0.9965 - val_loss: 0.2810 - val_acc: 0.9400\n",
      "Epoch 100/100\n",
      "100/100 [==============================] - 56s 556ms/step - loss: 0.0198 - acc: 0.9935 - val_loss: 0.3191 - val_acc: 0.9350\n"
     ]
    }
   ],
   "source": [
    "model.compile(loss='binary_crossentropy',\n",
    "              optimizer=optimizers.RMSprop(lr=1e-5),\n",
    "              metrics=['acc'])\n",
    "\n",
    "history = model.fit_generator(\n",
    "      train_generator,\n",
    "      steps_per_epoch=100,\n",
    "      epochs=100,\n",
    "      validation_data=validation_generator,\n",
    "      validation_steps=50)"
   ]
  },
  {
   "cell_type": "code",
   "execution_count": null,
   "metadata": {},
   "outputs": [],
   "source": []
  },
  {
   "cell_type": "code",
   "execution_count": null,
   "metadata": {},
   "outputs": [],
   "source": []
  },
  {
   "cell_type": "code",
   "execution_count": 25,
   "metadata": {},
   "outputs": [],
   "source": [
    "model.save('cats_and_dogs_small_4.h5')"
   ]
  },
  {
   "cell_type": "code",
   "execution_count": null,
   "metadata": {},
   "outputs": [],
   "source": []
  },
  {
   "cell_type": "code",
   "execution_count": 27,
   "metadata": {},
   "outputs": [
    {
     "data": {
      "image/png": "[encoded data removed]",
      "text/plain": [
       "<Figure size 432x288 with 1 Axes>"
      ]
     },
     "metadata": {
      "needs_background": "light"
     },
     "output_type": "display_data"
    },
    {
     "data": {
      "image/png": "[encoded data removed]",
      "text/plain": [
       "<Figure size 432x288 with 1 Axes>"
      ]
     },
     "metadata": {
      "needs_background": "light"
     },
     "output_type": "display_data"
    }
   ],
   "source": [
    "\n",
    "acc = history.history['acc']\n",
    "val_acc = history.history['val_acc']\n",
    "loss = history.history['loss']\n",
    "val_loss = history.history['val_loss']\n",
    "\n",
    "epochs = range(len(acc))\n",
    "\n",
    "plt.plot(epochs, acc, 'bo', label='Training acc')\n",
    "plt.plot(epochs, val_acc, 'b', label='Validation acc')\n",
    "plt.title('Training and validation accuracy')\n",
    "plt.legend()\n",
    "\n",
    "plt.figure()\n",
    "\n",
    "plt.plot(epochs, loss, 'bo', label='Training loss')\n",
    "plt.plot(epochs, val_loss, 'b', label='Validation loss')\n",
    "plt.title('Training and validation loss')\n",
    "plt.legend()\n",
    "\n",
    "plt.show();"
   ]
  },
  {
   "cell_type": "code",
   "execution_count": null,
   "metadata": {},
   "outputs": [],
   "source": []
  },
  {
   "cell_type": "code",
   "execution_count": null,
   "metadata": {},
   "outputs": [],
   "source": []
  },
  {
   "cell_type": "code",
   "execution_count": 28,
   "metadata": {},
   "outputs": [
    {
     "data": {
      "image/png": "[encoded data removed]",
      "text/plain": [
       "<Figure size 432x288 with 1 Axes>"
      ]
     },
     "metadata": {
      "needs_background": "light"
     },
     "output_type": "display_data"
    },
    {
     "data": {
      "image/png": "[encoded data removed]",
      "text/plain": [
       "<Figure size 432x288 with 1 Axes>"
      ]
     },
     "metadata": {
      "needs_background": "light"
     },
     "output_type": "display_data"
    }
   ],
   "source": [
    "\n",
    "def smooth_curve(points, factor=0.8):\n",
    "  smoothed_points = []\n",
    "  for point in points:\n",
    "    if smoothed_points:\n",
    "      previous = smoothed_points[-1]\n",
    "      smoothed_points.append(previous * factor + point * (1 - factor))\n",
    "    else:\n",
    "      smoothed_points.append(point)\n",
    "  return smoothed_points\n",
    "\n",
    "plt.plot(epochs,\n",
    "         smooth_curve(acc), 'bo', label='Smoothed training acc')\n",
    "plt.plot(epochs,\n",
    "         smooth_curve(val_acc), 'b', label='Smoothed validation acc')\n",
    "plt.title('Training and validation accuracy')\n",
    "plt.legend()\n",
    "\n",
    "plt.figure()\n",
    "\n",
    "plt.plot(epochs,\n",
    "         smooth_curve(loss), 'bo', label='Smoothed training loss')\n",
    "plt.plot(epochs,\n",
    "         smooth_curve(val_loss), 'b', label='Smoothed validation loss')\n",
    "plt.title('Training and validation loss')\n",
    "plt.legend()\n",
    "\n",
    "plt.show()"
   ]
  },
  {
   "cell_type": "code",
   "execution_count": null,
   "metadata": {},
   "outputs": [],
   "source": []
  },
  {
   "cell_type": "code",
   "execution_count": null,
   "metadata": {},
   "outputs": [],
   "source": []
  },
  {
   "cell_type": "code",
   "execution_count": null,
   "metadata": {},
   "outputs": [],
   "source": []
  },
  {
   "cell_type": "code",
   "execution_count": 29,
   "metadata": {},
   "outputs": [
    {
     "name": "stdout",
     "output_type": "stream",
     "text": [
      "Found 1000 images belonging to 2 classes.\n",
      "test acc: 0.9310000038146973\n"
     ]
    }
   ],
   "source": [
    "test_generator = test_datagen.flow_from_directory(\n",
    "        test_dir,\n",
    "        target_size=(150, 150),\n",
    "        batch_size=20,\n",
    "        class_mode='binary')\n",
    "\n",
    "test_loss, test_acc = model.evaluate_generator(test_generator, steps=50)\n",
    "print('test acc:', test_acc)"
   ]
  },
  {
   "cell_type": "code",
   "execution_count": null,
   "metadata": {},
   "outputs": [],
   "source": []
  },
  {
   "cell_type": "code",
   "execution_count": null,
   "metadata": {},
   "outputs": [],
   "source": []
  },
  {
   "cell_type": "code",
   "execution_count": null,
   "metadata": {},
   "outputs": [],
   "source": []
  },
  {
   "cell_type": "code",
   "execution_count": null,
   "metadata": {},
   "outputs": [],
   "source": []
  },
  {
   "cell_type": "code",
   "execution_count": null,
   "metadata": {},
   "outputs": [],
   "source": [
    "##Пробуем использовать другую завгтовку"
   ]
  },
  {
   "cell_type": "code",
   "execution_count": 57,
   "metadata": {},
   "outputs": [],
   "source": [
    "from keras.applications import VGG19\n",
    "\n",
    "conv_base_NASN = VGG19 (weights='imagenet',\n",
    "                  include_top=False,\n",
    "                  input_shape=(150, 150, 3))"
   ]
  },
  {
   "cell_type": "code",
   "execution_count": null,
   "metadata": {},
   "outputs": [],
   "source": []
  },
  {
   "cell_type": "code",
   "execution_count": 58,
   "metadata": {},
   "outputs": [
    {
     "name": "stdout",
     "output_type": "stream",
     "text": [
      "_________________________________________________________________\n",
      "Layer (type)                 Output Shape              Param #   \n",
      "=================================================================\n",
      "input_7 (InputLayer)         (None, 150, 150, 3)       0         \n",
      "_________________________________________________________________\n",
      "block1_conv1 (Conv2D)        (None, 150, 150, 64)      1792      \n",
      "_________________________________________________________________\n",
      "block1_conv2 (Conv2D)        (None, 150, 150, 64)      36928     \n",
      "_________________________________________________________________\n",
      "block1_pool (MaxPooling2D)   (None, 75, 75, 64)        0         \n",
      "_________________________________________________________________\n",
      "block2_conv1 (Conv2D)        (None, 75, 75, 128)       73856     \n",
      "_________________________________________________________________\n",
      "block2_conv2 (Conv2D)        (None, 75, 75, 128)       147584    \n",
      "_________________________________________________________________\n",
      "block2_pool (MaxPooling2D)   (None, 37, 37, 128)       0         \n",
      "_________________________________________________________________\n",
      "block3_conv1 (Conv2D)        (None, 37, 37, 256)       295168    \n",
      "_________________________________________________________________\n",
      "block3_conv2 (Conv2D)        (None, 37, 37, 256)       590080    \n",
      "_________________________________________________________________\n",
      "block3_conv3 (Conv2D)        (None, 37, 37, 256)       590080    \n",
      "_________________________________________________________________\n",
      "block3_conv4 (Conv2D)        (None, 37, 37, 256)       590080    \n",
      "_________________________________________________________________\n",
      "block3_pool (MaxPooling2D)   (None, 18, 18, 256)       0         \n",
      "_________________________________________________________________\n",
      "block4_conv1 (Conv2D)        (None, 18, 18, 512)       1180160   \n",
      "_________________________________________________________________\n",
      "block4_conv2 (Conv2D)        (None, 18, 18, 512)       2359808   \n",
      "_________________________________________________________________\n",
      "block4_conv3 (Conv2D)        (None, 18, 18, 512)       2359808   \n",
      "_________________________________________________________________\n",
      "block4_conv4 (Conv2D)        (None, 18, 18, 512)       2359808   \n",
      "_________________________________________________________________\n",
      "block4_pool (MaxPooling2D)   (None, 9, 9, 512)         0         \n",
      "_________________________________________________________________\n",
      "block5_conv1 (Conv2D)        (None, 9, 9, 512)         2359808   \n",
      "_________________________________________________________________\n",
      "block5_conv2 (Conv2D)        (None, 9, 9, 512)         2359808   \n",
      "_________________________________________________________________\n",
      "block5_conv3 (Conv2D)        (None, 9, 9, 512)         2359808   \n",
      "_________________________________________________________________\n",
      "block5_conv4 (Conv2D)        (None, 9, 9, 512)         2359808   \n",
      "_________________________________________________________________\n",
      "block5_pool (MaxPooling2D)   (None, 4, 4, 512)         0         \n",
      "=================================================================\n",
      "Total params: 20,024,384\n",
      "Trainable params: 20,024,384\n",
      "Non-trainable params: 0\n",
      "_________________________________________________________________\n"
     ]
    }
   ],
   "source": [
    "conv_base_NASN.summary();\n"
   ]
  },
  {
   "cell_type": "code",
   "execution_count": null,
   "metadata": {},
   "outputs": [],
   "source": []
  },
  {
   "cell_type": "code",
   "execution_count": 59,
   "metadata": {},
   "outputs": [
    {
     "name": "stdout",
     "output_type": "stream",
     "text": [
      "Found 2000 images belonging to 2 classes.\n",
      "Found 1000 images belonging to 2 classes.\n",
      "Found 1000 images belonging to 2 classes.\n"
     ]
    }
   ],
   "source": [
    "import os\n",
    "import numpy as np\n",
    "from keras.preprocessing.image import ImageDataGenerator\n",
    "\n",
    "base_dir = 'foto/cats_and_dogs_smalls'\n",
    "\n",
    "train_dir = os.path.join(base_dir, 'train')\n",
    "validation_dir = os.path.join(base_dir, 'validation')\n",
    "test_dir = os.path.join(base_dir, 'test')\n",
    "\n",
    "datagen = ImageDataGenerator(rescale=1./255)\n",
    "batch_size = 20\n",
    "\n",
    "def extract_features(directory, sample_count):\n",
    "    features = np.zeros(shape=(sample_count, 4, 4, 512))\n",
    "    labels = np.zeros(shape=(sample_count))\n",
    "    generator = datagen.flow_from_directory(\n",
    "        directory,\n",
    "        target_size=(150, 150),\n",
    "        batch_size=batch_size,\n",
    "        class_mode='binary')\n",
    "    i = 0\n",
    "    for inputs_batch, labels_batch in generator:\n",
    "        features_batch = conv_base_NASN.predict(inputs_batch)\n",
    "        features[i * batch_size : (i + 1) * batch_size] = features_batch\n",
    "        labels[i * batch_size : (i + 1) * batch_size] = labels_batch\n",
    "        i += 1\n",
    "        if i * batch_size >= sample_count:\n",
    "            # Note that since generators yield data indefinitely in a loop,\n",
    "            # we must `break` after every image has been seen once.\n",
    "            break\n",
    "    return features, labels\n",
    "\n",
    "train_features_1, train_labels_1 = extract_features(train_dir, 2000)\n",
    "validation_features, validation_labels = extract_features(validation_dir, 1000)\n",
    "test_features, test_labels = extract_features(test_dir, 1000)"
   ]
  },
  {
   "cell_type": "code",
   "execution_count": null,
   "metadata": {},
   "outputs": [],
   "source": []
  },
  {
   "cell_type": "code",
   "execution_count": 61,
   "metadata": {},
   "outputs": [],
   "source": [
    "conv_base_NASN.trainable = True\n",
    "\n",
    "set_trainable = False\n",
    "for layer in conv_base_NASN.layers:\n",
    "    if layer.name == 'block5_conv1':\n",
    "        set_trainable = True\n",
    "    if set_trainable:\n",
    "        layer.trainable = True\n",
    "    else:\n",
    "        layer.trainable = False"
   ]
  },
  {
   "cell_type": "code",
   "execution_count": null,
   "metadata": {},
   "outputs": [],
   "source": []
  },
  {
   "cell_type": "code",
   "execution_count": null,
   "metadata": {},
   "outputs": [],
   "source": []
  },
  {
   "cell_type": "code",
   "execution_count": null,
   "metadata": {},
   "outputs": [],
   "source": [
    "model.compile(loss='binary_crossentropy',\n",
    "              optimizer=optimizers.RMSprop(lr=1e-5),\n",
    "              metrics=['acc'])\n",
    "\n",
    "history = model.fit_generator(\n",
    "      train_generator,\n",
    "      steps_per_epoch=100,\n",
    "      epochs=100,\n",
    "      validation_data=validation_generator,\n",
    "      validation_steps=50)"
   ]
  }
 ],
 "metadata": {
  "kernelspec": {
   "display_name": "Python 3",
   "language": "python",
   "name": "python3"
  },
  "language_info": {
   "codemirror_mode": {
    "name": "ipython",
    "version": 3
   },
   "file_extension": ".py",
   "mimetype": "text/x-python",
   "name": "python",
   "nbconvert_exporter": "python",
   "pygments_lexer": "ipython3",
   "version": "3.6.9"
  }
 },
 "nbformat": 4,
 "nbformat_minor": 2
}
