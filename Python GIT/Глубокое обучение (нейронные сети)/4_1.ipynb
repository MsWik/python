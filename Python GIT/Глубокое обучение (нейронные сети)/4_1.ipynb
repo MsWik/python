{
 "cells": [
  {
   "cell_type": "code",
   "execution_count": 21,
   "metadata": {},
   "outputs": [
    {
     "data": {
      "text/plain": [
       "'2.2.4'"
      ]
     },
     "execution_count": 21,
     "metadata": {},
     "output_type": "execute_result"
    }
   ],
   "source": [
    "import keras\n",
    "keras.__version__"
   ]
  },
  {
   "cell_type": "code",
   "execution_count": 2,
   "metadata": {},
   "outputs": [],
   "source": [
    "import plaidml.keras\n",
    "plaidml.keras.install_backend()"
   ]
  },
  {
   "cell_type": "code",
   "execution_count": 3,
   "metadata": {},
   "outputs": [],
   "source": [
    "from keras.datasets import imdb\n",
    "import numpy as np\n",
    "# save np.load\n",
    "np_load_old = np.load\n",
    "\n",
    "# modify the default parameters of np.load\n",
    "np.load = lambda *a,**k: np_load_old(*a, allow_pickle=True, **k)\n",
    "\n",
    "# call load_data with allow_pickle implicitly set to true\n",
    "(train_data, train_labels), (test_data, test_labels) = imdb.load_data(num_words=10000)\n",
    "\n",
    "# restore np.load for future normal usage\n",
    "np.load = np_load_old\n",
    "\n",
    "def vectorize_sequences(sequences, dimension=10000):\n",
    "    # Create an all-zero matrix of shape (len(sequences), dimension)\n",
    "    results = np.zeros((len(sequences), dimension))\n",
    "    for i, sequence in enumerate(sequences):\n",
    "        results[i, sequence] = 1.  # set specific indices of results[i] to 1s\n",
    "    return results\n",
    "\n",
    "# Our vectorized training data\n",
    "x_train = vectorize_sequences(train_data)\n",
    "# Our vectorized test data\n",
    "x_test = vectorize_sequences(test_data)\n",
    "# Our vectorized labels\n",
    "y_train = np.asarray(train_labels).astype('float32')\n",
    "y_test = np.asarray(test_labels).astype('float32')"
   ]
  },
  {
   "cell_type": "code",
   "execution_count": null,
   "metadata": {},
   "outputs": [],
   "source": []
  },
  {
   "cell_type": "code",
   "execution_count": 4,
   "metadata": {},
   "outputs": [
    {
     "name": "stdout",
     "output_type": "stream",
     "text": [
      "WARNING:tensorflow:From C:\\Users\\User\\Anaconda3\\lib\\site-packages\\tensorflow\\python\\framework\\op_def_library.py:263: colocate_with (from tensorflow.python.framework.ops) is deprecated and will be removed in a future version.\n",
      "Instructions for updating:\n",
      "Colocations handled automatically by placer.\n"
     ]
    }
   ],
   "source": [
    "\n",
    "from keras import models\n",
    "from keras import layers\n",
    "\n",
    "original_model = models.Sequential()\n",
    "original_model.add(layers.Dense(16, activation='relu', input_shape=(10000,)))\n",
    "original_model.add(layers.Dense(16, activation='relu'))\n",
    "original_model.add(layers.Dense(1, activation='sigmoid'))\n",
    "\n",
    "original_model.compile(optimizer='rmsprop',\n",
    "                       loss='binary_crossentropy',\n",
    "                       metrics=['acc'])"
   ]
  },
  {
   "cell_type": "code",
   "execution_count": null,
   "metadata": {},
   "outputs": [],
   "source": []
  },
  {
   "cell_type": "code",
   "execution_count": 5,
   "metadata": {},
   "outputs": [],
   "source": [
    "smaller_model = models.Sequential()\n",
    "smaller_model.add(layers.Dense(32, activation='relu', input_shape=(10000,)))\n",
    "#smaller_model.add(layers.Dense(4, activation='relu'))\n",
    "smaller_model.add(layers.Dense(1, activation='sigmoid'))\n",
    "\n",
    "smaller_model.compile(optimizer='rmsprop',\n",
    "                      loss='binary_crossentropy',\n",
    "                      metrics=['acc'])"
   ]
  },
  {
   "cell_type": "code",
   "execution_count": null,
   "metadata": {},
   "outputs": [],
   "source": []
  },
  {
   "cell_type": "code",
   "execution_count": null,
   "metadata": {},
   "outputs": [],
   "source": []
  },
  {
   "cell_type": "code",
   "execution_count": 6,
   "metadata": {},
   "outputs": [
    {
     "name": "stdout",
     "output_type": "stream",
     "text": [
      "WARNING:tensorflow:From C:\\Users\\User\\Anaconda3\\lib\\site-packages\\tensorflow\\python\\ops\\math_ops.py:3066: to_int32 (from tensorflow.python.ops.math_ops) is deprecated and will be removed in a future version.\n",
      "Instructions for updating:\n",
      "Use tf.cast instead.\n",
      "Train on 25000 samples, validate on 25000 samples\n",
      "Epoch 1/20\n",
      "25000/25000 [==============================] - 5s 186us/step - loss: 0.4518 - acc: 0.8146 - val_loss: 0.3424 - val_acc: 0.8736\n",
      "Epoch 2/20\n",
      "25000/25000 [==============================] - 4s 164us/step - loss: 0.2534 - acc: 0.9108 - val_loss: 0.2839 - val_acc: 0.8892\n",
      "Epoch 3/20\n",
      "25000/25000 [==============================] - 4s 153us/step - loss: 0.1971 - acc: 0.9296 - val_loss: 0.2833 - val_acc: 0.8871\n",
      "Epoch 4/20\n",
      "25000/25000 [==============================] - 4s 155us/step - loss: 0.1636 - acc: 0.9423 - val_loss: 0.3651 - val_acc: 0.8581\n",
      "Epoch 5/20\n",
      "25000/25000 [==============================] - 4s 148us/step - loss: 0.1404 - acc: 0.9500 - val_loss: 0.3146 - val_acc: 0.8791\n",
      "Epoch 6/20\n",
      "25000/25000 [==============================] - 4s 147us/step - loss: 0.1233 - acc: 0.9571 - val_loss: 0.3380 - val_acc: 0.8757\n",
      "Epoch 7/20\n",
      "25000/25000 [==============================] - 4s 148us/step - loss: 0.1090 - acc: 0.9630 - val_loss: 0.3653 - val_acc: 0.8716\n",
      "Epoch 8/20\n",
      "25000/25000 [==============================] - 4s 149us/step - loss: 0.0954 - acc: 0.9663 - val_loss: 0.3899 - val_acc: 0.8695\n",
      "Epoch 9/20\n",
      "25000/25000 [==============================] - 4s 147us/step - loss: 0.0833 - acc: 0.9722 - val_loss: 0.4503 - val_acc: 0.8584\n",
      "Epoch 10/20\n",
      "25000/25000 [==============================] - 4s 148us/step - loss: 0.0746 - acc: 0.9761 - val_loss: 0.4625 - val_acc: 0.8592\n",
      "Epoch 11/20\n",
      "25000/25000 [==============================] - 4s 149us/step - loss: 0.0636 - acc: 0.9807 - val_loss: 0.4836 - val_acc: 0.8604\n",
      "Epoch 12/20\n",
      "25000/25000 [==============================] - 4s 150us/step - loss: 0.0547 - acc: 0.9831 - val_loss: 0.5114 - val_acc: 0.8586\n",
      "Epoch 13/20\n",
      "25000/25000 [==============================] - 4s 150us/step - loss: 0.0485 - acc: 0.9856 - val_loss: 0.5400 - val_acc: 0.8582\n",
      "Epoch 14/20\n",
      "25000/25000 [==============================] - 4s 148us/step - loss: 0.0406 - acc: 0.9884 - val_loss: 0.5981 - val_acc: 0.8540\n",
      "Epoch 15/20\n",
      "25000/25000 [==============================] - 4s 152us/step - loss: 0.0355 - acc: 0.9897 - val_loss: 0.6210 - val_acc: 0.8534\n",
      "Epoch 16/20\n",
      "25000/25000 [==============================] - 4s 155us/step - loss: 0.0279 - acc: 0.9928 - val_loss: 0.6724 - val_acc: 0.85080.0280 - acc: \n",
      "Epoch 17/20\n",
      "25000/25000 [==============================] - 4s 173us/step - loss: 0.0259 - acc: 0.9929 - val_loss: 0.6880 - val_acc: 0.8515\n",
      "Epoch 18/20\n",
      "25000/25000 [==============================] - 4s 155us/step - loss: 0.0204 - acc: 0.9950 - val_loss: 0.7261 - val_acc: 0.8506\n",
      "Epoch 19/20\n",
      "25000/25000 [==============================] - 4s 148us/step - loss: 0.0155 - acc: 0.9966 - val_loss: 0.7766 - val_acc: 0.8496\n",
      "Epoch 20/20\n",
      "25000/25000 [==============================] - 4s 149us/step - loss: 0.0179 - acc: 0.9951 - val_loss: 0.8109 - val_acc: 0.8490\n"
     ]
    }
   ],
   "source": [
    "original_hist = original_model.fit(x_train, y_train,\n",
    "                                   epochs=20,\n",
    "                                   batch_size=512,\n",
    "                                   validation_data=(x_test, y_test))"
   ]
  },
  {
   "cell_type": "code",
   "execution_count": null,
   "metadata": {},
   "outputs": [],
   "source": []
  },
  {
   "cell_type": "code",
   "execution_count": null,
   "metadata": {},
   "outputs": [],
   "source": []
  },
  {
   "cell_type": "code",
   "execution_count": 7,
   "metadata": {},
   "outputs": [
    {
     "name": "stdout",
     "output_type": "stream",
     "text": [
      "Train on 25000 samples, validate on 25000 samples\n",
      "Epoch 1/20\n",
      "25000/25000 [==============================] - 4s 165us/step - loss: 0.4327 - acc: 0.8304 - val_loss: 0.3369 - val_acc: 0.8788\n",
      "Epoch 2/20\n",
      "25000/25000 [==============================] - 4s 154us/step - loss: 0.2585 - acc: 0.9132 - val_loss: 0.2857 - val_acc: 0.8898\n",
      "Epoch 3/20\n",
      "25000/25000 [==============================] - 4s 154us/step - loss: 0.2034 - acc: 0.9301 - val_loss: 0.2844 - val_acc: 0.8863\n",
      "Epoch 4/20\n",
      "25000/25000 [==============================] - 4s 154us/step - loss: 0.1718 - acc: 0.9406 - val_loss: 0.2897 - val_acc: 0.8842\n",
      "Epoch 5/20\n",
      "25000/25000 [==============================] - 4s 157us/step - loss: 0.1504 - acc: 0.9488 - val_loss: 0.3030 - val_acc: 0.8799\n",
      "Epoch 6/20\n",
      "25000/25000 [==============================] - 4s 154us/step - loss: 0.1349 - acc: 0.9543 - val_loss: 0.3132 - val_acc: 0.8792\n",
      "Epoch 7/20\n",
      "25000/25000 [==============================] - 4s 154us/step - loss: 0.1212 - acc: 0.9600 - val_loss: 0.3304 - val_acc: 0.8762\n",
      "Epoch 8/20\n",
      "25000/25000 [==============================] - 4s 153us/step - loss: 0.1109 - acc: 0.9633 - val_loss: 0.3477 - val_acc: 0.8731\n",
      "Epoch 9/20\n",
      "25000/25000 [==============================] - 4s 156us/step - loss: 0.0997 - acc: 0.9676 - val_loss: 0.3670 - val_acc: 0.8696\n",
      "Epoch 10/20\n",
      "25000/25000 [==============================] - 4s 154us/step - loss: 0.0925 - acc: 0.9698 - val_loss: 0.3871 - val_acc: 0.8681\n",
      "Epoch 11/20\n",
      "25000/25000 [==============================] - 4s 156us/step - loss: 0.0835 - acc: 0.9734 - val_loss: 0.4116 - val_acc: 0.8638\n",
      "Epoch 12/20\n",
      "25000/25000 [==============================] - 4s 155us/step - loss: 0.0761 - acc: 0.9770 - val_loss: 0.4429 - val_acc: 0.8630\n",
      "Epoch 13/20\n",
      "25000/25000 [==============================] - 4s 156us/step - loss: 0.0699 - acc: 0.9786 - val_loss: 0.4542 - val_acc: 0.8608\n",
      "Epoch 14/20\n",
      "25000/25000 [==============================] - 4s 154us/step - loss: 0.0638 - acc: 0.9812 - val_loss: 0.4795 - val_acc: 0.8587\n",
      "Epoch 15/20\n",
      "25000/25000 [==============================] - 4s 154us/step - loss: 0.0588 - acc: 0.9825 - val_loss: 0.4993 - val_acc: 0.8580\n",
      "Epoch 16/20\n",
      "25000/25000 [==============================] - 4s 154us/step - loss: 0.0526 - acc: 0.9854 - val_loss: 0.5268 - val_acc: 0.8562\n",
      "Epoch 17/20\n",
      "25000/25000 [==============================] - 4s 157us/step - loss: 0.0485 - acc: 0.9866 - val_loss: 0.5621 - val_acc: 0.8564\n",
      "Epoch 18/20\n",
      "25000/25000 [==============================] - 4s 154us/step - loss: 0.0449 - acc: 0.9884 - val_loss: 0.5764 - val_acc: 0.8532\n",
      "Epoch 19/20\n",
      "25000/25000 [==============================] - 4s 158us/step - loss: 0.0404 - acc: 0.9893 - val_loss: 0.6016 - val_acc: 0.8526\n",
      "Epoch 20/20\n",
      "25000/25000 [==============================] - 4s 164us/step - loss: 0.0365 - acc: 0.9909 - val_loss: 0.6282 - val_acc: 0.8512\n"
     ]
    }
   ],
   "source": [
    "smaller_model_hist = smaller_model.fit(x_train, y_train,\n",
    "                                       epochs=20,\n",
    "                                       batch_size=512,\n",
    "                                       validation_data=(x_test, y_test))"
   ]
  },
  {
   "cell_type": "code",
   "execution_count": null,
   "metadata": {},
   "outputs": [],
   "source": []
  },
  {
   "cell_type": "code",
   "execution_count": null,
   "metadata": {},
   "outputs": [],
   "source": []
  },
  {
   "cell_type": "code",
   "execution_count": 8,
   "metadata": {},
   "outputs": [],
   "source": [
    "epochs = range(1, 21)\n",
    "original_val_loss = original_hist.history['val_loss']\n",
    "smaller_model_val_loss = smaller_model_hist.history['val_loss']"
   ]
  },
  {
   "cell_type": "code",
   "execution_count": null,
   "metadata": {},
   "outputs": [],
   "source": []
  },
  {
   "cell_type": "code",
   "execution_count": null,
   "metadata": {},
   "outputs": [],
   "source": []
  },
  {
   "cell_type": "code",
   "execution_count": 9,
   "metadata": {},
   "outputs": [
    {
     "data": {
      "text/plain": [
       "<Figure size 640x480 with 1 Axes>"
      ]
     },
     "metadata": {},
     "output_type": "display_data"
    }
   ],
   "source": [
    "import matplotlib.pyplot as plt\n",
    "\n",
    "# b+ is for \"blue cross\"\n",
    "plt.plot(epochs, original_val_loss, 'b+', label='Original model')\n",
    "# \"bo\" is for \"blue dot\"\n",
    "plt.plot(epochs, smaller_model_val_loss, 'bo', label='Smaller model')\n",
    "plt.xlabel('Epochs')\n",
    "plt.ylabel('Validation loss')\n",
    "plt.legend()\n",
    "\n",
    "plt.show()"
   ]
  },
  {
   "cell_type": "code",
   "execution_count": null,
   "metadata": {},
   "outputs": [],
   "source": []
  },
  {
   "cell_type": "code",
   "execution_count": null,
   "metadata": {},
   "outputs": [],
   "source": []
  },
  {
   "cell_type": "code",
   "execution_count": 10,
   "metadata": {},
   "outputs": [],
   "source": [
    "bigger_model = models.Sequential()\n",
    "bigger_model.add(layers.Dense(512, activation='relu', input_shape=(10000,)))\n",
    "bigger_model.add(layers.Dense(512, activation='relu'))\n",
    "bigger_model.add(layers.Dense(1, activation='sigmoid'))\n",
    "\n",
    "bigger_model.compile(optimizer='rmsprop',\n",
    "                     loss='binary_crossentropy',\n",
    "                     metrics=['acc'])"
   ]
  },
  {
   "cell_type": "code",
   "execution_count": null,
   "metadata": {},
   "outputs": [],
   "source": []
  },
  {
   "cell_type": "code",
   "execution_count": null,
   "metadata": {},
   "outputs": [],
   "source": []
  },
  {
   "cell_type": "code",
   "execution_count": 11,
   "metadata": {},
   "outputs": [
    {
     "name": "stdout",
     "output_type": "stream",
     "text": [
      "Train on 25000 samples, validate on 25000 samples\n",
      "Epoch 1/20\n",
      "25000/25000 [==============================] - 14s 559us/step - loss: 0.4654 - acc: 0.7936 - val_loss: 0.3210 - val_acc: 0.8682\n",
      "Epoch 2/20\n",
      "25000/25000 [==============================] - 12s 499us/step - loss: 0.2213 - acc: 0.9132 - val_loss: 0.3196 - val_acc: 0.8683\n",
      "Epoch 3/20\n",
      "25000/25000 [==============================] - 12s 488us/step - loss: 0.1270 - acc: 0.9525 - val_loss: 0.5746 - val_acc: 0.8091\n",
      "Epoch 4/20\n",
      "25000/25000 [==============================] - 12s 483us/step - loss: 0.0759 - acc: 0.9781 - val_loss: 0.4244 - val_acc: 0.8814\n",
      "Epoch 5/20\n",
      "25000/25000 [==============================] - 12s 489us/step - loss: 0.0836 - acc: 0.9864 - val_loss: 0.4721 - val_acc: 0.8815\n",
      "Epoch 6/20\n",
      "25000/25000 [==============================] - 13s 516us/step - loss: 0.0020 - acc: 0.9998 - val_loss: 0.8455 - val_acc: 0.8469\n",
      "Epoch 7/20\n",
      "25000/25000 [==============================] - 12s 489us/step - loss: 0.0945 - acc: 0.9906 - val_loss: 0.5836 - val_acc: 0.8772\n",
      "Epoch 8/20\n",
      "25000/25000 [==============================] - 12s 489us/step - loss: 2.6474e-04 - acc: 1.0000 - val_loss: 0.7276 - val_acc: 0.8787\n",
      "Epoch 9/20\n",
      "25000/25000 [==============================] - 12s 498us/step - loss: 0.0845 - acc: 0.9892 - val_loss: 0.6941 - val_acc: 0.8703\n",
      "Epoch 10/20\n",
      "25000/25000 [==============================] - 12s 489us/step - loss: 2.1753e-04 - acc: 1.0000 - val_loss: 0.7138 - val_acc: 0.8780\n",
      "Epoch 11/20\n",
      "25000/25000 [==============================] - 12s 490us/step - loss: 3.6943e-05 - acc: 1.0000 - val_loss: 0.8181 - val_acc: 0.8778\n",
      "Epoch 12/20\n",
      "25000/25000 [==============================] - 13s 505us/step - loss: 0.0799 - acc: 0.9893 - val_loss: 0.7444 - val_acc: 0.8753\n",
      "Epoch 13/20\n",
      "25000/25000 [==============================] - 13s 503us/step - loss: 0.0368 - acc: 0.9940 - val_loss: 0.7206 - val_acc: 0.8725\n",
      "Epoch 14/20\n",
      "25000/25000 [==============================] - 13s 510us/step - loss: 5.0132e-04 - acc: 0.9999 - val_loss: 0.7583 - val_acc: 0.8757\n",
      "Epoch 15/20\n",
      "25000/25000 [==============================] - 13s 506us/step - loss: 3.6005e-05 - acc: 1.0000 - val_loss: 0.8451 - val_acc: 0.8762\n",
      "Epoch 16/20\n",
      "25000/25000 [==============================] - 13s 531us/step - loss: 0.0678 - acc: 0.9917 - val_loss: 0.9153 - val_acc: 0.8663\n",
      "Epoch 17/20\n",
      "25000/25000 [==============================] - 13s 530us/step - loss: 9.8774e-04 - acc: 0.9999 - val_loss: 1.5621 - val_acc: 0.8065\n",
      "Epoch 18/20\n",
      "25000/25000 [==============================] - 15s 613us/step - loss: 0.0236 - acc: 0.9952 - val_loss: 0.8136 - val_acc: 0.8717\n",
      "Epoch 19/20\n",
      "25000/25000 [==============================] - 12s 498us/step - loss: 3.6050e-05 - acc: 1.0000 - val_loss: 0.8907 - val_acc: 0.8727\n",
      "Epoch 20/20\n",
      "25000/25000 [==============================] - 12s 491us/step - loss: 6.3071e-04 - acc: 0.9999 - val_loss: 3.6455 - val_acc: 0.6635\n"
     ]
    }
   ],
   "source": [
    "bigger_model_hist = bigger_model.fit(x_train, y_train,\n",
    "                                     epochs=20,\n",
    "                                     batch_size=512,\n",
    "                                     validation_data=(x_test, y_test))"
   ]
  },
  {
   "cell_type": "code",
   "execution_count": null,
   "metadata": {},
   "outputs": [],
   "source": []
  },
  {
   "cell_type": "code",
   "execution_count": null,
   "metadata": {},
   "outputs": [],
   "source": []
  },
  {
   "cell_type": "code",
   "execution_count": 12,
   "metadata": {},
   "outputs": [
    {
     "data": {
      "image/png": "[encoded data removed]",
      "text/plain": [
       "<Figure size 432x288 with 1 Axes>"
      ]
     },
     "metadata": {
      "needs_background": "light"
     },
     "output_type": "display_data"
    }
   ],
   "source": [
    "bigger_model_val_loss = bigger_model_hist.history['val_loss']\n",
    "\n",
    "plt.plot(epochs, original_val_loss, 'b+', label='Original model')\n",
    "plt.plot(epochs, bigger_model_val_loss, 'bo', label='Bigger model')\n",
    "plt.xlabel('Epochs')\n",
    "plt.ylabel('Validation loss')\n",
    "plt.legend()\n",
    "\n",
    "plt.show()"
   ]
  },
  {
   "cell_type": "code",
   "execution_count": null,
   "metadata": {},
   "outputs": [],
   "source": []
  },
  {
   "cell_type": "code",
   "execution_count": null,
   "metadata": {},
   "outputs": [],
   "source": []
  },
  {
   "cell_type": "code",
   "execution_count": 13,
   "metadata": {},
   "outputs": [
    {
     "data": {
      "image/png": "[encoded data removed]",
      "text/plain": [
       "<Figure size 432x288 with 1 Axes>"
      ]
     },
     "metadata": {
      "needs_background": "light"
     },
     "output_type": "display_data"
    }
   ],
   "source": [
    "original_train_loss = original_hist.history['loss']\n",
    "bigger_model_train_loss = bigger_model_hist.history['loss']\n",
    "\n",
    "plt.plot(epochs, original_train_loss, 'b+', label='Original model')\n",
    "plt.plot(epochs, bigger_model_train_loss, 'bo', label='Bigger model')\n",
    "plt.xlabel('Epochs')\n",
    "plt.ylabel('Training loss')\n",
    "plt.legend()\n",
    "\n",
    "plt.show()"
   ]
  },
  {
   "cell_type": "code",
   "execution_count": null,
   "metadata": {},
   "outputs": [],
   "source": []
  },
  {
   "cell_type": "code",
   "execution_count": null,
   "metadata": {},
   "outputs": [],
   "source": []
  },
  {
   "cell_type": "code",
   "execution_count": 14,
   "metadata": {},
   "outputs": [
    {
     "ename": "SyntaxError",
     "evalue": "unexpected EOF while parsing (<ipython-input-14-1d093ff4ec3d>, line 8)",
     "output_type": "error",
     "traceback": [
      "\u001b[1;36m  File \u001b[1;32m\"<ipython-input-14-1d093ff4ec3d>\"\u001b[1;36m, line \u001b[1;32m8\u001b[0m\n\u001b[1;33m    l2_model.add(layers.Dense(1, activation='sigmoid')\u001b[0m\n\u001b[1;37m                                                      ^\u001b[0m\n\u001b[1;31mSyntaxError\u001b[0m\u001b[1;31m:\u001b[0m unexpected EOF while parsing\n"
     ]
    }
   ],
   "source": [
    "from keras import regularizers\n",
    "\n",
    "l2_model = models.Sequential()\n",
    "l2_model.add(layers.Dense(16, kernel_regularizer=regularizers.l2(0.001),\n",
    "                          activation='relu', input_shape=(10000,)))\n",
    "l2_model.add(layers.Dense(16, kernel_regularizer=regularizers.l2(0.001),\n",
    "                          activation='relu'))\n",
    "l2_model.add(layers.Dense(1, activation='sigmoid')"
   ]
  },
  {
   "cell_type": "code",
   "execution_count": null,
   "metadata": {},
   "outputs": [],
   "source": []
  },
  {
   "cell_type": "code",
   "execution_count": null,
   "metadata": {},
   "outputs": [],
   "source": []
  },
  {
   "cell_type": "code",
   "execution_count": null,
   "metadata": {},
   "outputs": [],
   "source": [
    "dpt_model = models.Sequential()\n",
    "dpt_model.add(layers.Dense(16, activation='relu', input_shape=(10000,)))\n",
    "dpt_model.add(layers.Dropout(0.5))\n",
    "dpt_model.add(layers.Dense(16, activation='relu'))\n",
    "dpt_model.add(layers.Dropout(0.5))\n",
    "dpt_model.add(layers.Dense(1, activation='sigmoid'))\n",
    "\n",
    "dpt_model.compile(optimizer='rmsprop',\n",
    "                  loss='binary_crossentropy',\n",
    "                  metrics=['acc'])"
   ]
  },
  {
   "cell_type": "code",
   "execution_count": null,
   "metadata": {},
   "outputs": [],
   "source": []
  },
  {
   "cell_type": "code",
   "execution_count": null,
   "metadata": {},
   "outputs": [],
   "source": []
  },
  {
   "cell_type": "code",
   "execution_count": null,
   "metadata": {},
   "outputs": [],
   "source": []
  },
  {
   "cell_type": "code",
   "execution_count": null,
   "metadata": {},
   "outputs": [],
   "source": [
    "dpt_model_hist = dpt_model.fit(x_train, y_train,\n",
    "                               epochs=20,\n",
    "                               batch_size=512,\n",
    "                               validation_data=(x_test, y_test))"
   ]
  },
  {
   "cell_type": "code",
   "execution_count": null,
   "metadata": {},
   "outputs": [],
   "source": []
  },
  {
   "cell_type": "code",
   "execution_count": null,
   "metadata": {},
   "outputs": [],
   "source": []
  },
  {
   "cell_type": "code",
   "execution_count": null,
   "metadata": {},
   "outputs": [],
   "source": [
    "dpt_model_val_loss = dpt_model_hist.history['val_loss']\n",
    "\n",
    "plt.plot(epochs, original_val_loss, 'b+', label='Original model')\n",
    "plt.plot(epochs, dpt_model_val_loss, 'bo', label='Dropout-regularized model')\n",
    "plt.xlabel('Epochs')\n",
    "plt.ylabel('Validation loss')\n",
    "plt.legend()\n",
    "\n",
    "plt.show()"
   ]
  },
  {
   "cell_type": "code",
   "execution_count": null,
   "metadata": {},
   "outputs": [],
   "source": []
  }
 ],
 "metadata": {
  "kernelspec": {
   "display_name": "Python 3",
   "language": "python",
   "name": "python3"
  },
  "language_info": {
   "codemirror_mode": {
    "name": "ipython",
    "version": 3
   },
   "file_extension": ".py",
   "mimetype": "text/x-python",
   "name": "python",
   "nbconvert_exporter": "python",
   "pygments_lexer": "ipython3",
   "version": "3.6.9"
  }
 },
 "nbformat": 4,
 "nbformat_minor": 2
}
